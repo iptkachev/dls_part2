{
  "cells": [
    {
      "cell_type": "code",
      "execution_count": 1,
      "metadata": {
        "id": "YzPPo1Rhov6r"
      },
      "outputs": [],
      "source": [
        "!pip install -q transformers datasets tokenizers"
      ]
    },
    {
      "cell_type": "code",
      "source": [
        "from google.colab import drive\n",
        "drive.mount('/content/drive')"
      ],
      "metadata": {
        "colab": {
          "base_uri": "https://localhost:8080/"
        },
        "id": "rcQUr1GiYNi0",
        "outputId": "83dfab9e-77c9-4c89-c8c5-0a23f1fb60ac"
      },
      "execution_count": 2,
      "outputs": [
        {
          "output_type": "stream",
          "name": "stdout",
          "text": [
            "Drive already mounted at /content/drive; to attempt to forcibly remount, call drive.mount(\"/content/drive\", force_remount=True).\n"
          ]
        }
      ]
    },
    {
      "cell_type": "markdown",
      "metadata": {
        "id": "xG2wLHECov6v"
      },
      "source": [
        "# Домашнее задание. Transformers.\n",
        "\n",
        "Привет! Это очередное домашнее задание, но теперь ты познакомишься с моделя трансформеров и с библиотекой `HuggingFace🤗`. В этом задании будет предложено решить с помощью модели `GPT2` простую задачу (анализ сентимента) и сделать небольшое исследование карт внимания. Приступим!"
      ]
    },
    {
      "cell_type": "code",
      "execution_count": 3,
      "metadata": {
        "id": "J3fc3O5xov6w"
      },
      "outputs": [],
      "source": [
        "import numpy as np\n",
        "import matplotlib.pyplot as plt\n",
        "from matplotlib import ticker\n",
        "\n",
        "import torch\n",
        "import torch.nn as nn\n",
        "\n",
        "from transformers import GPT2ForSequenceClassification, GPT2TokenizerFast, GPT2Config\n",
        "from datasets import load_dataset"
      ]
    },
    {
      "cell_type": "code",
      "execution_count": 4,
      "metadata": {
        "colab": {
          "base_uri": "https://localhost:8080/"
        },
        "id": "aAm6grTBov6x",
        "outputId": "4793ba0c-c5b3-41e7-d673-d866c06032a4"
      },
      "outputs": [
        {
          "output_type": "stream",
          "name": "stdout",
          "text": [
            "cpu\n"
          ]
        }
      ],
      "source": [
        "device = \"cuda\" if torch.cuda.is_available else \"cpu\"\n",
        "device = \"cpu\"\n",
        "print(device)"
      ]
    },
    {
      "cell_type": "markdown",
      "metadata": {
        "id": "_qqiLulHov6x"
      },
      "source": [
        "Датасет, который мы будем использовать сегодня – тексты из английского твиттера. Они уже почищенны от никнеймов, знаков препинания и прочего. "
      ]
    },
    {
      "cell_type": "code",
      "execution_count": 5,
      "metadata": {
        "colab": {
          "base_uri": "https://localhost:8080/",
          "height": 86,
          "referenced_widgets": [
            "eb1faf0d7b3e4295b1a1c2f276f5dc8b",
            "25f67a8750a24204835e4f734114ce20",
            "f2876ddf39a540a9aa8216483a42e990",
            "26b77911633947ee8c3527b3659ade0b",
            "456a2bd8b0cd457a88291ed29649b1f2",
            "3a98ddf8d5d54fd382882eefe4f82efe",
            "32bb4e3e704a4e39b601caad089424cf",
            "7c4cfeca73c241d98d6d133ec224b40c",
            "9e404b04a82b41a2ac552d6f00cfe38d",
            "577fedd2ea504df683fcbfb586cfb116",
            "262a74b87cf84b8295be63d78f2afb23"
          ]
        },
        "id": "FkBUWS9Dov6y",
        "outputId": "bd227e74-0352-4aa0-dbce-bafe5d6c1eda"
      },
      "outputs": [
        {
          "output_type": "stream",
          "name": "stderr",
          "text": [
            "Using custom data configuration default\n",
            "Reusing dataset emotion (/root/.cache/huggingface/datasets/emotion/default/0.0.0/348f63ca8e27b3713b6c04d723efe6d824a56fb3d1449794716c0f0296072705)\n"
          ]
        },
        {
          "output_type": "display_data",
          "data": {
            "text/plain": [
              "  0%|          | 0/3 [00:00<?, ?it/s]"
            ],
            "application/vnd.jupyter.widget-view+json": {
              "version_major": 2,
              "version_minor": 0,
              "model_id": "eb1faf0d7b3e4295b1a1c2f276f5dc8b"
            }
          },
          "metadata": {}
        }
      ],
      "source": [
        "emotion_dataset = load_dataset(\"emotion\")"
      ]
    },
    {
      "cell_type": "markdown",
      "metadata": {
        "id": "pFCTBepTov6y"
      },
      "source": [
        "Посмотри, из чего состоит `emotion_dataset`:"
      ]
    },
    {
      "cell_type": "code",
      "execution_count": 6,
      "metadata": {
        "colab": {
          "base_uri": "https://localhost:8080/"
        },
        "id": "lk0O7yG7ov6z",
        "outputId": "1d564e39-2415-4fb8-f535-9069dd02f6d0"
      },
      "outputs": [
        {
          "output_type": "execute_result",
          "data": {
            "text/plain": [
              "DatasetDict({\n",
              "    train: Dataset({\n",
              "        features: ['text', 'label'],\n",
              "        num_rows: 16000\n",
              "    })\n",
              "    validation: Dataset({\n",
              "        features: ['text', 'label'],\n",
              "        num_rows: 2000\n",
              "    })\n",
              "    test: Dataset({\n",
              "        features: ['text', 'label'],\n",
              "        num_rows: 2000\n",
              "    })\n",
              "})"
            ]
          },
          "metadata": {},
          "execution_count": 6
        }
      ],
      "source": [
        "emotion_dataset"
      ]
    },
    {
      "cell_type": "code",
      "execution_count": 7,
      "metadata": {
        "colab": {
          "base_uri": "https://localhost:8080/"
        },
        "id": "f4H467bIov6z",
        "outputId": "1de1c3e6-cbb1-4cdc-e1be-e091dabe891a"
      },
      "outputs": [
        {
          "output_type": "execute_result",
          "data": {
            "text/plain": [
              "Dataset({\n",
              "    features: ['text', 'label'],\n",
              "    num_rows: 16000\n",
              "})"
            ]
          },
          "metadata": {},
          "execution_count": 7
        }
      ],
      "source": [
        "emotion_dataset[\"train\"]"
      ]
    },
    {
      "cell_type": "code",
      "execution_count": 8,
      "metadata": {
        "colab": {
          "base_uri": "https://localhost:8080/",
          "height": 36
        },
        "id": "uRQYMeyyov60",
        "outputId": "848d5be6-7361-4a94-9eab-b08b0ad06d33"
      },
      "outputs": [
        {
          "output_type": "execute_result",
          "data": {
            "text/plain": [
              "'i didnt feel humiliated'"
            ],
            "application/vnd.google.colaboratory.intrinsic+json": {
              "type": "string"
            }
          },
          "metadata": {},
          "execution_count": 8
        }
      ],
      "source": [
        "emotion_dataset[\"train\"][\"text\"][0]"
      ]
    },
    {
      "cell_type": "code",
      "execution_count": 9,
      "metadata": {
        "colab": {
          "base_uri": "https://localhost:8080/"
        },
        "id": "gVfyqXFBov60",
        "outputId": "33b2d652-b0e9-4846-8449-aa83cc68d9e9"
      },
      "outputs": [
        {
          "output_type": "execute_result",
          "data": {
            "text/plain": [
              "6"
            ]
          },
          "metadata": {},
          "execution_count": 9
        }
      ],
      "source": [
        "len(np.unique(emotion_dataset[\"validation\"][\"label\"]))"
      ]
    },
    {
      "cell_type": "code",
      "execution_count": 10,
      "metadata": {
        "colab": {
          "base_uri": "https://localhost:8080/"
        },
        "id": "hBBMjatkov60",
        "outputId": "608832d5-82db-4b1b-93ff-e988a6644b00"
      },
      "outputs": [
        {
          "output_type": "execute_result",
          "data": {
            "text/plain": [
              "16000"
            ]
          },
          "metadata": {},
          "execution_count": 10
        }
      ],
      "source": [
        "len(emotion_dataset[\"train\"])"
      ]
    },
    {
      "cell_type": "markdown",
      "metadata": {
        "id": "28O3XihNov61"
      },
      "source": [
        "Для перевода текста в токены мы будем использовать предобученный BPE-токенайзер."
      ]
    },
    {
      "cell_type": "code",
      "execution_count": 11,
      "metadata": {
        "id": "sXjPk4Urov61"
      },
      "outputs": [],
      "source": [
        "tokenizer = GPT2TokenizerFast.from_pretrained(\"distilgpt2\")\n",
        "tokenizer.pad_token = tokenizer.eos_token # У gpt2 нет pad токенов. Вместо них воспользуемся токенами конца текста."
      ]
    },
    {
      "cell_type": "markdown",
      "metadata": {
        "id": "AdO13tfiov61"
      },
      "source": [
        "Подготовь класс, который принимает датасет, токенайзер и имя используемой части (`train`, `validation`, `test`). Используй его для получения данных для обучения.\n",
        "\n",
        "P.S. Посмотри, как работает токенайзер ([docs](https://huggingface.co/transformers/main_classes/tokenizer.html)) и подумай, как его надо добавить в датасет."
      ]
    },
    {
      "cell_type": "markdown",
      "metadata": {
        "id": "gZ9ch2FXov61"
      },
      "source": [
        "Немного примеров, как работает токенайзер. Это поможет с написанием датасета."
      ]
    },
    {
      "cell_type": "code",
      "execution_count": 12,
      "metadata": {
        "colab": {
          "base_uri": "https://localhost:8080/"
        },
        "id": "5_l7QFLyov62",
        "outputId": "66ac57d3-8a5b-4f00-e968-158c2ad18486"
      },
      "outputs": [
        {
          "output_type": "execute_result",
          "data": {
            "text/plain": [
              "['i', 'Ġdidnt', 'Ġfeel', 'Ġhumiliated']"
            ]
          },
          "metadata": {},
          "execution_count": 12
        }
      ],
      "source": [
        "tokenizer.tokenize(emotion_dataset[\"train\"][\"text\"][0])"
      ]
    },
    {
      "cell_type": "code",
      "execution_count": 13,
      "metadata": {
        "colab": {
          "base_uri": "https://localhost:8080/"
        },
        "id": "5COfEWBcov62",
        "outputId": "35d64195-3d1b-4184-e26e-b6327917b236"
      },
      "outputs": [
        {
          "output_type": "execute_result",
          "data": {
            "text/plain": [
              "[72, 42547, 1254, 42659]"
            ]
          },
          "metadata": {},
          "execution_count": 13
        }
      ],
      "source": [
        "tokenizer.encode(emotion_dataset[\"train\"][\"text\"][0])"
      ]
    },
    {
      "cell_type": "code",
      "execution_count": 14,
      "metadata": {
        "colab": {
          "base_uri": "https://localhost:8080/"
        },
        "id": "xHLkZ6-1ov62",
        "outputId": "ffbe876d-d508-4f2d-c13e-26a692599e22"
      },
      "outputs": [
        {
          "output_type": "execute_result",
          "data": {
            "text/plain": [
              "{'input_ids': [72, 42547, 1254, 42659], 'attention_mask': [1, 1, 1, 1]}"
            ]
          },
          "metadata": {},
          "execution_count": 14
        }
      ],
      "source": [
        "tokenizer.encode_plus(emotion_dataset[\"train\"][\"text\"][0])"
      ]
    },
    {
      "cell_type": "code",
      "execution_count": 15,
      "metadata": {
        "colab": {
          "base_uri": "https://localhost:8080/"
        },
        "id": "iUwC3NFDov62",
        "outputId": "4f571eba-49a3-47d9-bcc5-fb1f4f63f724"
      },
      "outputs": [
        {
          "output_type": "execute_result",
          "data": {
            "text/plain": [
              "{'input_ids': tensor([[   72, 42547,  1254, 42659]]), 'attention_mask': tensor([[1, 1, 1, 1]])}"
            ]
          },
          "metadata": {},
          "execution_count": 15
        }
      ],
      "source": [
        "tokenizer.encode_plus(emotion_dataset[\"train\"][\"text\"][0], return_tensors=\"pt\")"
      ]
    },
    {
      "cell_type": "code",
      "execution_count": 16,
      "metadata": {
        "colab": {
          "base_uri": "https://localhost:8080/"
        },
        "id": "GoqAbIauov62",
        "outputId": "13488f86-a5a0-47aa-e724-768bd042d92a"
      },
      "outputs": [
        {
          "output_type": "execute_result",
          "data": {
            "text/plain": [
              "{'input_ids': tensor([[   72, 42547,  1254, 42659, 50256, 50256, 50256, 50256, 50256, 50256,\n",
              "         50256, 50256, 50256, 50256, 50256, 50256, 50256, 50256, 50256, 50256,\n",
              "         50256, 50256, 50256, 50256, 50256, 50256, 50256, 50256, 50256, 50256,\n",
              "         50256, 50256, 50256, 50256, 50256, 50256, 50256, 50256, 50256, 50256,\n",
              "         50256, 50256, 50256, 50256, 50256, 50256, 50256, 50256, 50256, 50256,\n",
              "         50256, 50256, 50256, 50256, 50256, 50256, 50256, 50256, 50256, 50256,\n",
              "         50256, 50256, 50256, 50256, 50256, 50256, 50256, 50256, 50256, 50256,\n",
              "         50256, 50256, 50256, 50256, 50256, 50256, 50256, 50256, 50256, 50256,\n",
              "         50256, 50256, 50256, 50256, 50256, 50256, 50256, 50256, 50256, 50256,\n",
              "         50256, 50256, 50256, 50256, 50256, 50256, 50256, 50256, 50256, 50256,\n",
              "         50256, 50256, 50256, 50256, 50256, 50256, 50256, 50256, 50256, 50256,\n",
              "         50256, 50256, 50256, 50256, 50256, 50256, 50256, 50256, 50256, 50256,\n",
              "         50256, 50256, 50256, 50256, 50256, 50256, 50256, 50256]]), 'attention_mask': tensor([[1, 1, 1, 1, 0, 0, 0, 0, 0, 0, 0, 0, 0, 0, 0, 0, 0, 0, 0, 0, 0, 0, 0, 0,\n",
              "         0, 0, 0, 0, 0, 0, 0, 0, 0, 0, 0, 0, 0, 0, 0, 0, 0, 0, 0, 0, 0, 0, 0, 0,\n",
              "         0, 0, 0, 0, 0, 0, 0, 0, 0, 0, 0, 0, 0, 0, 0, 0, 0, 0, 0, 0, 0, 0, 0, 0,\n",
              "         0, 0, 0, 0, 0, 0, 0, 0, 0, 0, 0, 0, 0, 0, 0, 0, 0, 0, 0, 0, 0, 0, 0, 0,\n",
              "         0, 0, 0, 0, 0, 0, 0, 0, 0, 0, 0, 0, 0, 0, 0, 0, 0, 0, 0, 0, 0, 0, 0, 0,\n",
              "         0, 0, 0, 0, 0, 0, 0, 0]])}"
            ]
          },
          "metadata": {},
          "execution_count": 16
        }
      ],
      "source": [
        "tokenizer.encode_plus(\n",
        "    emotion_dataset[\"train\"][\"text\"][0], \n",
        "    max_length=128, # максимальная длина текста\n",
        "    padding=\"max_length\", # надо ли добавлять паддинг в конце?\n",
        "    return_tensors=\"pt\", # возвращает pytorch тензоры\n",
        ")"
      ]
    },
    {
      "cell_type": "code",
      "execution_count": 17,
      "metadata": {
        "id": "dLM9qJf6ov63"
      },
      "outputs": [],
      "source": [
        "# Если надо, попрактикуйся работать с токенайзером здесь"
      ]
    },
    {
      "cell_type": "code",
      "execution_count": 18,
      "metadata": {
        "id": "CROqOucsov63"
      },
      "outputs": [],
      "source": [
        "class TweetDataset(torch.utils.data.Dataset):\n",
        "    def __init__(self, part, dataset=emotion_dataset, tokenizer=tokenizer, max_length=128):\n",
        "        \"\"\"\n",
        "        part: \"train\", \"validation\", \"test\"\n",
        "        \"\"\"\n",
        "        self.part = part\n",
        "        self.dataset = dataset\n",
        "        self.tokenizer = tokenizer\n",
        "        self.max_length = max_length\n",
        "        \n",
        "        self.labels = np.unique(dataset[part][\"label\"])\n",
        "        self.label2num = {l: num for num, l in enumerate(self.labels)}\n",
        "        \n",
        "    def __getitem__(self, idx):\n",
        "        \"\"\"\n",
        "        Return dict with tokens, attention_mask and label\n",
        "        \"\"\"\n",
        "        text = self.dataset[self.part][\"text\"][idx]\n",
        "        label = self.dataset[self.part][\"label\"][idx]\n",
        "        \n",
        "        tokenizer_output = tokenizer.encode_plus(\n",
        "            text, \n",
        "            max_length=self.max_length, # максимальная длина текста\n",
        "            padding=\"max_length\", # надо ли добавлять паддинг в конце?\n",
        "            return_tensors=\"pt\", # возвращает pytorch тензоры\n",
        "        )\n",
        "        target = self.label2num[label]\n",
        "        return {\n",
        "            \"input_ids\": tokenizer_output[\"input_ids\"][0], \n",
        "            \"mask\": tokenizer_output[\"attention_mask\"][0],\n",
        "            \"target\": target\n",
        "        }\n",
        "        \n",
        "    def __len__(self):\n",
        "        \"\"\"\n",
        "        Return length of dataset\n",
        "        \"\"\"\n",
        "        return len(self.dataset[self.part])"
      ]
    },
    {
      "cell_type": "markdown",
      "metadata": {
        "id": "rggAiK9Zov63"
      },
      "source": [
        "Создай `train`, `validation` и `test` части датасета. Загрузи их в `DataLoaders`."
      ]
    },
    {
      "cell_type": "code",
      "execution_count": 19,
      "metadata": {
        "id": "jt9SMuA3ov64"
      },
      "outputs": [],
      "source": [
        "train_dataset = TweetDataset(part=\"train\")\n",
        "valid_dataset = TweetDataset(part=\"validation\") # validation\n",
        "test_dataset = TweetDataset(part=\"test\")"
      ]
    },
    {
      "cell_type": "code",
      "execution_count": 20,
      "metadata": {
        "id": "_Shlglh0ov64"
      },
      "outputs": [],
      "source": [
        "batch_size = 64 # Задай batch_size\n",
        "\n",
        "train_loader = torch.utils.data.DataLoader(\n",
        "  train_dataset, batch_size, shuffle=True\n",
        ")\n",
        "valid_loader = torch.utils.data.DataLoader(\n",
        "  train_dataset, batch_size, shuffle=False\n",
        ")\n",
        "test_loader = torch.utils.data.DataLoader(\n",
        "  train_dataset, batch_size, shuffle=False\n",
        ")"
      ]
    },
    {
      "cell_type": "markdown",
      "metadata": {
        "id": "jBCwjgbGov64"
      },
      "source": [
        "## Начнем с нуля.\n",
        "\n",
        "Попробуем обучить модель трансформер с нуля решать данную задачу."
      ]
    },
    {
      "cell_type": "code",
      "execution_count": 21,
      "metadata": {
        "id": "1cY23bjjov64"
      },
      "outputs": [],
      "source": [
        "config = GPT2Config.from_pretrained(\n",
        "    \"distilgpt2\", # distilgpt2 – уменьшенная версия модели gpt2\n",
        "    output_attentions=True,\n",
        "    pad_token_id=tokenizer.eos_token_id,\n",
        "    num_labels=len(np.unique(emotion_dataset[\"train\"][\"label\"]))\n",
        ")\n",
        "model_0 = GPT2ForSequenceClassification(config=config).to(device) # GPT2 для классификации текста"
      ]
    },
    {
      "cell_type": "code",
      "source": [
        "model_0"
      ],
      "metadata": {
        "colab": {
          "base_uri": "https://localhost:8080/"
        },
        "id": "tJYJ9lPHQxfu",
        "outputId": "6eeefbf6-ec67-4bc3-c171-3a90abf36511"
      },
      "execution_count": 22,
      "outputs": [
        {
          "output_type": "execute_result",
          "data": {
            "text/plain": [
              "GPT2ForSequenceClassification(\n",
              "  (transformer): GPT2Model(\n",
              "    (wte): Embedding(50257, 768)\n",
              "    (wpe): Embedding(1024, 768)\n",
              "    (drop): Dropout(p=0.1, inplace=False)\n",
              "    (h): ModuleList(\n",
              "      (0): GPT2Block(\n",
              "        (ln_1): LayerNorm((768,), eps=1e-05, elementwise_affine=True)\n",
              "        (attn): GPT2Attention(\n",
              "          (c_attn): Conv1D()\n",
              "          (c_proj): Conv1D()\n",
              "          (attn_dropout): Dropout(p=0.1, inplace=False)\n",
              "          (resid_dropout): Dropout(p=0.1, inplace=False)\n",
              "        )\n",
              "        (ln_2): LayerNorm((768,), eps=1e-05, elementwise_affine=True)\n",
              "        (mlp): GPT2MLP(\n",
              "          (c_fc): Conv1D()\n",
              "          (c_proj): Conv1D()\n",
              "          (act): NewGELUActivation()\n",
              "          (dropout): Dropout(p=0.1, inplace=False)\n",
              "        )\n",
              "      )\n",
              "      (1): GPT2Block(\n",
              "        (ln_1): LayerNorm((768,), eps=1e-05, elementwise_affine=True)\n",
              "        (attn): GPT2Attention(\n",
              "          (c_attn): Conv1D()\n",
              "          (c_proj): Conv1D()\n",
              "          (attn_dropout): Dropout(p=0.1, inplace=False)\n",
              "          (resid_dropout): Dropout(p=0.1, inplace=False)\n",
              "        )\n",
              "        (ln_2): LayerNorm((768,), eps=1e-05, elementwise_affine=True)\n",
              "        (mlp): GPT2MLP(\n",
              "          (c_fc): Conv1D()\n",
              "          (c_proj): Conv1D()\n",
              "          (act): NewGELUActivation()\n",
              "          (dropout): Dropout(p=0.1, inplace=False)\n",
              "        )\n",
              "      )\n",
              "      (2): GPT2Block(\n",
              "        (ln_1): LayerNorm((768,), eps=1e-05, elementwise_affine=True)\n",
              "        (attn): GPT2Attention(\n",
              "          (c_attn): Conv1D()\n",
              "          (c_proj): Conv1D()\n",
              "          (attn_dropout): Dropout(p=0.1, inplace=False)\n",
              "          (resid_dropout): Dropout(p=0.1, inplace=False)\n",
              "        )\n",
              "        (ln_2): LayerNorm((768,), eps=1e-05, elementwise_affine=True)\n",
              "        (mlp): GPT2MLP(\n",
              "          (c_fc): Conv1D()\n",
              "          (c_proj): Conv1D()\n",
              "          (act): NewGELUActivation()\n",
              "          (dropout): Dropout(p=0.1, inplace=False)\n",
              "        )\n",
              "      )\n",
              "      (3): GPT2Block(\n",
              "        (ln_1): LayerNorm((768,), eps=1e-05, elementwise_affine=True)\n",
              "        (attn): GPT2Attention(\n",
              "          (c_attn): Conv1D()\n",
              "          (c_proj): Conv1D()\n",
              "          (attn_dropout): Dropout(p=0.1, inplace=False)\n",
              "          (resid_dropout): Dropout(p=0.1, inplace=False)\n",
              "        )\n",
              "        (ln_2): LayerNorm((768,), eps=1e-05, elementwise_affine=True)\n",
              "        (mlp): GPT2MLP(\n",
              "          (c_fc): Conv1D()\n",
              "          (c_proj): Conv1D()\n",
              "          (act): NewGELUActivation()\n",
              "          (dropout): Dropout(p=0.1, inplace=False)\n",
              "        )\n",
              "      )\n",
              "      (4): GPT2Block(\n",
              "        (ln_1): LayerNorm((768,), eps=1e-05, elementwise_affine=True)\n",
              "        (attn): GPT2Attention(\n",
              "          (c_attn): Conv1D()\n",
              "          (c_proj): Conv1D()\n",
              "          (attn_dropout): Dropout(p=0.1, inplace=False)\n",
              "          (resid_dropout): Dropout(p=0.1, inplace=False)\n",
              "        )\n",
              "        (ln_2): LayerNorm((768,), eps=1e-05, elementwise_affine=True)\n",
              "        (mlp): GPT2MLP(\n",
              "          (c_fc): Conv1D()\n",
              "          (c_proj): Conv1D()\n",
              "          (act): NewGELUActivation()\n",
              "          (dropout): Dropout(p=0.1, inplace=False)\n",
              "        )\n",
              "      )\n",
              "      (5): GPT2Block(\n",
              "        (ln_1): LayerNorm((768,), eps=1e-05, elementwise_affine=True)\n",
              "        (attn): GPT2Attention(\n",
              "          (c_attn): Conv1D()\n",
              "          (c_proj): Conv1D()\n",
              "          (attn_dropout): Dropout(p=0.1, inplace=False)\n",
              "          (resid_dropout): Dropout(p=0.1, inplace=False)\n",
              "        )\n",
              "        (ln_2): LayerNorm((768,), eps=1e-05, elementwise_affine=True)\n",
              "        (mlp): GPT2MLP(\n",
              "          (c_fc): Conv1D()\n",
              "          (c_proj): Conv1D()\n",
              "          (act): NewGELUActivation()\n",
              "          (dropout): Dropout(p=0.1, inplace=False)\n",
              "        )\n",
              "      )\n",
              "    )\n",
              "    (ln_f): LayerNorm((768,), eps=1e-05, elementwise_affine=True)\n",
              "  )\n",
              "  (score): Linear(in_features=768, out_features=6, bias=False)\n",
              ")"
            ]
          },
          "metadata": {},
          "execution_count": 22
        }
      ]
    },
    {
      "cell_type": "markdown",
      "metadata": {
        "id": "T469J1ZKov64"
      },
      "source": [
        "Подготовь оптимайзер и критерий:"
      ]
    },
    {
      "cell_type": "code",
      "execution_count": 23,
      "metadata": {
        "id": "oGVZvZXTov64"
      },
      "outputs": [],
      "source": [
        "lr = 1e-5 # Предполагаемый learning rate. Он может быть больше или меньше :)\n",
        "\n",
        "optimizer = torch.optim.Adam(model_0.parameters(), lr)\n",
        "criterion = torch.nn.CrossEntropyLoss()\n",
        "# scheduler = ... # Можно добавить шедулер для обучения моделей. Это на твое усмотрение"
      ]
    },
    {
      "cell_type": "markdown",
      "metadata": {
        "id": "BrZvw6C8ov65"
      },
      "source": [
        "Посмотри, что возвращает модель ([docs](https://huggingface.co/transformers/model_doc/gpt2.html#gpt2forsequenceclassification)), если в неё подать данные:"
      ]
    },
    {
      "cell_type": "code",
      "execution_count": 24,
      "metadata": {
        "id": "sE1YQSv2ov65"
      },
      "outputs": [],
      "source": [
        "tokenized_sample = tokenizer.encode_plus(\n",
        "    emotion_dataset[\"train\"][\"text\"][0], \n",
        "    max_length=128, # максимальная длина текста\n",
        "    padding=\"max_length\", # надо ли добавлять паддинг в конце?\n",
        "    return_tensors=\"pt\", # возвращает pytorch тензоры\n",
        ")\n",
        "\n",
        "tokens = tokenized_sample[\"input_ids\"].to(device) # Получи токены из датасета\n",
        "mask = tokenized_sample[\"attention_mask\"].to(device) # Получи маску из датасета\n",
        "\n",
        "output = model_0(tokens, attention_mask=mask) # Посмотри на аутпут"
      ]
    },
    {
      "cell_type": "code",
      "source": [
        "tokens = torch.cat((tokenized_sample[\"input_ids\"], tokenized_sample[\"input_ids\"])).to(device) # Получи токены из датасета\n",
        "mask = torch.cat((tokenized_sample[\"attention_mask\"], tokenized_sample[\"attention_mask\"])).to(device) # Получи маску из датасета\n",
        "\n",
        "output = model_0(tokens, attention_mask=mask)"
      ],
      "metadata": {
        "id": "XtPriS7payqB"
      },
      "execution_count": 25,
      "outputs": []
    },
    {
      "cell_type": "markdown",
      "metadata": {
        "id": "4pyikRouov65"
      },
      "source": [
        "Обучи модель с помощью `train_dataset`, проверяй во время обучения качество с помощью `valid_dataset` и получи финальное качество с помощью `test_dataset`."
      ]
    },
    {
      "cell_type": "code",
      "source": [
        "tokens = tokenized_sample[\"input_ids\"].to(device) # Получи токены из датасета\n",
        "mask = tokenized_sample[\"attention_mask\"].to(device) # Получи маску из датасета\n",
        "\n",
        "model_0(tokens, attention_mask=mask) # Посмотри на аутпут"
      ],
      "metadata": {
        "colab": {
          "base_uri": "https://localhost:8080/"
        },
        "id": "ONAUQ98yVyDL",
        "outputId": "e5ec2022-354d-405c-d60b-432a00484b00"
      },
      "execution_count": 26,
      "outputs": [
        {
          "output_type": "execute_result",
          "data": {
            "text/plain": [
              "SequenceClassifierOutputWithPast([('logits',\n",
              "                                   tensor([[-0.1100,  0.3030,  0.1940,  0.2948, -0.3990, -0.5319]],\n",
              "                                          grad_fn=<IndexBackward0>)),\n",
              "                                  ('past_key_values',\n",
              "                                   ((tensor([[[[-0.0582, -0.4053, -0.5964,  ...,  1.3937,  0.7288, -0.3292],\n",
              "                                               [-0.2221, -0.7305,  0.3945,  ...,  0.1327,  0.2910, -0.7653],\n",
              "                                               [ 0.4005,  0.4438, -0.1183,  ...,  0.7425,  0.6119, -0.1645],\n",
              "                                               ...,\n",
              "                                               [-0.2586,  0.7456, -0.2243,  ...,  0.2290, -0.0045,  0.4528],\n",
              "                                               [ 0.2110,  0.3447,  0.4109,  ...,  0.2539,  0.1476,  0.5436],\n",
              "                                               [-0.4976,  0.7130,  0.5152,  ..., -0.1710,  0.5580,  0.7337]],\n",
              "                                     \n",
              "                                              [[-0.2600,  0.4075,  0.2839,  ...,  0.5424, -1.1167, -0.5850],\n",
              "                                               [ 0.2604,  0.0456, -0.5259,  ...,  0.7377, -0.2158,  0.3382],\n",
              "                                               [ 0.2438, -0.2247, -0.1968,  ..., -1.4322,  0.5357, -0.0622],\n",
              "                                               ...,\n",
              "                                               [ 0.5901, -0.2974, -0.3927,  ..., -0.0515,  0.8431,  0.0849],\n",
              "                                               [ 0.1556, -0.6739, -0.4311,  ..., -0.2246,  0.7300, -0.3352],\n",
              "                                               [-0.2061, -0.4460,  0.2933,  ..., -0.5724,  0.6871, -0.2585]],\n",
              "                                     \n",
              "                                              [[ 0.1642, -0.4639, -0.3834,  ..., -0.2454,  0.8809,  0.2823],\n",
              "                                               [-0.4396,  0.5536, -0.1035,  ...,  0.7288,  0.6325, -0.0754],\n",
              "                                               [ 0.2759, -0.6472, -0.8141,  ..., -0.0954,  0.7341, -0.3965],\n",
              "                                               ...,\n",
              "                                               [ 0.1813, -1.1039, -0.3485,  ..., -0.1642,  0.0537, -0.2142],\n",
              "                                               [-0.3588, -0.2178, -0.3841,  ..., -0.2514, -0.0852,  0.1842],\n",
              "                                               [ 0.3006, -1.3611, -0.1616,  ..., -0.7547,  0.5293, -0.1032]],\n",
              "                                     \n",
              "                                              ...,\n",
              "                                     \n",
              "                                              [[-0.2366, -0.6110, -0.3296,  ...,  0.2132, -0.7259, -0.7394],\n",
              "                                               [ 0.1224,  0.3215,  0.8653,  ...,  0.7942,  0.8423, -0.8521],\n",
              "                                               [ 0.5832, -0.0332,  0.2787,  ...,  0.4519,  0.4060, -0.0879],\n",
              "                                               ...,\n",
              "                                               [ 0.1309, -0.5200,  0.0567,  ...,  0.0499, -0.7146, -0.0609],\n",
              "                                               [-0.4967, -0.7431, -0.4711,  ...,  0.4071,  0.7645, -0.4463],\n",
              "                                               [-0.0654,  0.7198,  0.5846,  ...,  0.9425,  0.1500, -0.8398]],\n",
              "                                     \n",
              "                                              [[ 0.0525, -0.5162,  0.2179,  ...,  0.0204,  0.2820, -0.3831],\n",
              "                                               [-0.1479, -0.6954, -1.1243,  ...,  0.0660,  0.1436,  1.8147],\n",
              "                                               [ 0.2450,  0.3730,  1.3727,  ..., -0.2630,  0.1219, -1.8728],\n",
              "                                               ...,\n",
              "                                               [-0.0424, -0.1054, -0.5456,  ..., -0.2698, -0.5569, -0.1168],\n",
              "                                               [ 0.4321, -0.0461, -0.5551,  ..., -1.0926, -0.0087,  0.1400],\n",
              "                                               [ 0.1829, -0.3178,  0.0057,  ..., -0.7363,  0.9724, -0.5248]],\n",
              "                                     \n",
              "                                              [[-0.9299, -0.2839,  0.0782,  ...,  0.1360, -0.6192, -0.3337],\n",
              "                                               [ 0.9183, -0.1557, -0.4798,  ...,  0.1103, -0.0470,  0.3453],\n",
              "                                               [-0.7809,  0.6588,  0.1605,  ...,  0.3781, -0.5965,  0.0744],\n",
              "                                               ...,\n",
              "                                               [ 0.6514, -0.6967,  0.0511,  ...,  0.4256,  0.7594, -1.0603],\n",
              "                                               [ 0.3573, -0.2650,  0.1241,  ..., -0.1091,  1.0078,  0.3532],\n",
              "                                               [-0.2594, -0.7024, -0.0470,  ...,  0.1989,  0.9261, -0.1603]]]],\n",
              "                                            grad_fn=<PermuteBackward0>),\n",
              "                                     tensor([[[[ 7.7817e-02,  1.0323e-01, -5.2642e-01,  ...,  1.3211e+00,\n",
              "                                                -8.4011e-01, -9.6826e-02],\n",
              "                                               [ 3.2049e-01, -1.0695e-02, -1.0107e+00,  ..., -3.4798e-01,\n",
              "                                                -7.7515e-01, -4.2579e-01],\n",
              "                                               [-9.6044e-01,  3.9602e-01,  8.6290e-01,  ...,  5.6474e-01,\n",
              "                                                -7.8476e-01, -7.0123e-01],\n",
              "                                               ...,\n",
              "                                               [-3.4229e-01, -4.2162e-01,  1.1882e+00,  ...,  9.5071e-01,\n",
              "                                                 6.5813e-01,  6.0151e-01],\n",
              "                                               [ 1.9493e-01, -1.3990e-01,  5.1470e-01,  ...,  7.1180e-01,\n",
              "                                                 1.0735e+00, -7.6213e-02],\n",
              "                                               [-5.3761e-02,  3.1482e-01,  2.2647e-01,  ...,  1.6128e+00,\n",
              "                                                 7.6626e-01,  4.4476e-01]],\n",
              "                                     \n",
              "                                              [[ 2.4764e-02, -3.3369e-01, -2.9679e-01,  ...,  1.2675e-01,\n",
              "                                                -4.7621e-01, -1.3860e-01],\n",
              "                                               [-7.0803e-01,  2.8983e-02, -6.6532e-01,  ...,  1.2127e-01,\n",
              "                                                -2.5935e-01, -5.9283e-01],\n",
              "                                               [ 5.4753e-01, -1.0157e+00,  6.5930e-01,  ..., -4.9847e-02,\n",
              "                                                -2.0166e-01,  3.6190e-01],\n",
              "                                               ...,\n",
              "                                               [ 6.5171e-01,  9.7668e-01,  2.8245e-01,  ...,  2.4930e-01,\n",
              "                                                 2.5340e-01, -4.6598e-01],\n",
              "                                               [ 4.7396e-01,  4.5904e-01,  3.1101e-01,  ...,  2.8030e-01,\n",
              "                                                 7.6738e-01,  1.1505e+00],\n",
              "                                               [-2.2347e-01,  9.8106e-03,  9.5500e-02,  ..., -4.6158e-02,\n",
              "                                                -5.0199e-02,  6.5532e-01]],\n",
              "                                     \n",
              "                                              [[-5.7631e-01,  6.3167e-01, -2.0336e-01,  ..., -6.7828e-01,\n",
              "                                                -8.1013e-01, -7.5497e-01],\n",
              "                                               [ 6.2578e-01, -8.2853e-02, -7.1441e-01,  ...,  5.4560e-01,\n",
              "                                                 5.5901e-01,  7.4439e-02],\n",
              "                                               [ 2.4880e-01,  8.8655e-02, -8.9898e-03,  ..., -8.1972e-01,\n",
              "                                                -9.7816e-01,  1.8383e-01],\n",
              "                                               ...,\n",
              "                                               [-9.6944e-02,  4.3890e-01,  1.1668e-01,  ..., -2.3870e-01,\n",
              "                                                 1.1233e-02,  1.3910e-03],\n",
              "                                               [-2.1317e-02, -1.3986e-04, -2.8439e-01,  ...,  1.0852e+00,\n",
              "                                                 1.1350e-01, -1.0236e+00],\n",
              "                                               [-3.0514e-01, -1.3988e-01,  2.2296e-01,  ..., -3.9325e-01,\n",
              "                                                 4.5864e-02, -1.0098e-01]],\n",
              "                                     \n",
              "                                              ...,\n",
              "                                     \n",
              "                                              [[-1.2940e+00,  4.6134e-01, -2.8856e-01,  ...,  1.4072e-01,\n",
              "                                                 8.0895e-01, -1.2184e-01],\n",
              "                                               [-3.0688e-01,  5.6096e-01,  1.2178e+00,  ...,  2.4880e-01,\n",
              "                                                 2.9686e-02, -1.3788e+00],\n",
              "                                               [ 6.7252e-01,  1.0765e+00, -5.0413e-01,  ...,  1.7862e+00,\n",
              "                                                -2.8204e-02,  5.7658e-02],\n",
              "                                               ...,\n",
              "                                               [-9.1490e-01,  5.3173e-01,  3.9852e-02,  ..., -6.5836e-01,\n",
              "                                                -7.0901e-01, -7.5757e-02],\n",
              "                                               [ 9.7026e-01,  1.1477e+00,  6.3296e-01,  ..., -2.2329e-01,\n",
              "                                                -5.9015e-01,  1.1659e-01],\n",
              "                                               [-4.4141e-01,  5.3754e-01,  5.8745e-01,  ...,  7.0839e-02,\n",
              "                                                -4.8054e-01,  5.8370e-01]],\n",
              "                                     \n",
              "                                              [[-1.2135e-01, -6.8174e-02,  2.3207e-01,  ..., -4.0674e-01,\n",
              "                                                 1.5370e-01,  4.4017e-01],\n",
              "                                               [-2.5973e-01,  2.1105e-01, -4.9135e-01,  ..., -1.5268e-01,\n",
              "                                                 4.0137e-01,  6.7690e-02],\n",
              "                                               [-1.3753e-01,  8.3032e-01, -9.0419e-02,  ...,  1.9472e-01,\n",
              "                                                -2.7959e-01, -3.0948e-01],\n",
              "                                               ...,\n",
              "                                               [-3.7771e-01,  6.3013e-02,  1.5721e-01,  ...,  1.5738e-01,\n",
              "                                                -6.2860e-01,  6.1408e-02],\n",
              "                                               [ 8.9866e-02,  1.6399e-01, -3.9313e-01,  ...,  1.0802e+00,\n",
              "                                                -1.2858e+00,  2.1623e-01],\n",
              "                                               [ 5.8613e-02, -2.4087e-01,  1.3254e-01,  ...,  1.1140e+00,\n",
              "                                                -1.0274e+00,  1.1567e-01]],\n",
              "                                     \n",
              "                                              [[-9.0909e-01, -5.2539e-01, -3.9247e-01,  ...,  6.4444e-01,\n",
              "                                                 3.2500e-01,  6.9412e-01],\n",
              "                                               [ 1.0648e+00, -6.2212e-01, -5.9027e-01,  ..., -1.1142e-01,\n",
              "                                                -4.3308e-01, -1.2040e+00],\n",
              "                                               [-4.5226e-01, -1.9498e-01,  2.9117e-01,  ..., -5.7484e-01,\n",
              "                                                -5.7526e-01, -3.7914e-01],\n",
              "                                               ...,\n",
              "                                               [-1.8463e-03,  5.3335e-01,  3.5718e-01,  ...,  7.9740e-01,\n",
              "                                                 1.8000e-01, -3.9107e-01],\n",
              "                                               [-2.7494e-01,  3.9373e-01,  3.8728e-01,  ...,  8.3354e-01,\n",
              "                                                 2.7620e-01,  5.2260e-01],\n",
              "                                               [ 7.4980e-01,  4.9815e-01,  6.9276e-02,  ...,  7.1614e-01,\n",
              "                                                 4.4237e-01,  2.3226e-01]]]], grad_fn=<PermuteBackward0>)),\n",
              "                                    (tensor([[[[-0.0549,  0.3678, -0.0792,  ..., -0.0523,  0.1075, -0.9909],\n",
              "                                               [-0.1046,  0.6663,  0.3738,  ...,  0.3814,  0.6704,  0.5145],\n",
              "                                               [ 0.1760,  1.0802,  0.6425,  ...,  0.7069, -0.0896,  0.7207],\n",
              "                                               ...,\n",
              "                                               [-0.3140,  1.1667,  0.4776,  ..., -0.0636,  0.2310,  0.7035],\n",
              "                                               [-0.3186,  0.2815,  0.5157,  ..., -0.1827, -0.2642,  0.8047],\n",
              "                                               [-0.6098,  0.2950,  0.4825,  ...,  0.0745, -0.0496,  0.5908]],\n",
              "                                     \n",
              "                                              [[ 1.0660,  0.1810, -0.1700,  ...,  0.1538,  0.4297,  0.4026],\n",
              "                                               [ 0.0898,  0.0832,  0.7119,  ...,  0.5967,  0.1304, -0.1618],\n",
              "                                               [-0.0861, -0.3713,  1.0172,  ..., -0.5886, -0.0021, -0.0790],\n",
              "                                               ...,\n",
              "                                               [ 0.8071, -0.3889,  0.9378,  ..., -0.6333, -0.3470,  0.0331],\n",
              "                                               [ 0.1923, -0.4269,  0.6367,  ..., -1.0837, -0.0103, -0.5494],\n",
              "                                               [ 0.1669, -0.3441,  1.2176,  ..., -0.5873, -0.2497, -0.0063]],\n",
              "                                     \n",
              "                                              [[ 0.0961, -1.6010,  0.2328,  ..., -0.4604, -0.7167,  0.2439],\n",
              "                                               [ 0.2591,  0.1643,  0.2277,  ..., -1.2833, -0.4901, -0.0067],\n",
              "                                               [ 0.2828,  0.1214,  0.2068,  ..., -0.8783, -0.2720,  0.7265],\n",
              "                                               ...,\n",
              "                                               [-0.8075, -0.2824, -0.0522,  ...,  0.0957, -0.0080,  1.1824],\n",
              "                                               [-0.9869, -0.5315,  0.1209,  ..., -0.4368, -0.4317,  1.2736],\n",
              "                                               [-1.2916, -0.5227, -0.0660,  ...,  0.0846,  0.3537,  1.4500]],\n",
              "                                     \n",
              "                                              ...,\n",
              "                                     \n",
              "                                              [[ 0.0509, -0.3489, -0.8341,  ..., -0.3993,  0.4656, -0.6556],\n",
              "                                               [ 0.1062, -0.4458, -0.8841,  ..., -0.5164,  0.3811, -0.0182],\n",
              "                                               [ 0.9921, -0.1625, -0.4509,  ..., -0.0903,  0.3833, -0.1227],\n",
              "                                               ...,\n",
              "                                               [ 0.5286, -0.4880,  0.2884,  ...,  0.0573,  0.1432,  0.2219],\n",
              "                                               [ 0.7348, -0.5909,  0.1775,  ..., -0.4782,  0.5427,  0.2066],\n",
              "                                               [ 0.1999, -0.5394,  0.2695,  ..., -0.2529,  0.4026,  0.1692]],\n",
              "                                     \n",
              "                                              [[-0.6853, -0.1408, -0.0714,  ...,  0.3557,  0.6108,  0.2716],\n",
              "                                               [-0.2609, -0.1506,  0.9992,  ...,  0.0668,  0.5557,  0.2721],\n",
              "                                               [ 0.1968, -0.5225, -0.1694,  ..., -0.4549, -0.3316,  0.2040],\n",
              "                                               ...,\n",
              "                                               [-0.0375, -0.3941,  0.4136,  ...,  0.1230, -0.0414,  0.3453],\n",
              "                                               [ 0.2659, -0.1788,  0.7861,  ..., -0.4139,  0.2440,  0.6304],\n",
              "                                               [-0.0179, -0.5806, -0.0876,  ..., -0.9450, -0.0297,  0.3374]],\n",
              "                                     \n",
              "                                              [[-0.3652, -0.2267,  0.1045,  ..., -0.3588, -0.0822,  1.2390],\n",
              "                                               [-0.5765, -0.2183,  0.2365,  ...,  0.9427,  0.4668,  0.2031],\n",
              "                                               [-0.1858, -0.6496,  0.7038,  ...,  0.4706,  0.5373,  1.3781],\n",
              "                                               ...,\n",
              "                                               [-0.5867, -0.6263,  0.3018,  ...,  0.8875,  0.5884,  0.6813],\n",
              "                                               [-0.5023, -0.4530,  0.3195,  ...,  0.1848,  0.5559,  0.0929],\n",
              "                                               [-0.5073, -0.2873,  0.0459,  ...,  1.0690,  0.1195,  0.7995]]]],\n",
              "                                            grad_fn=<PermuteBackward0>),\n",
              "                                     tensor([[[[-0.6274, -0.4062,  0.0401,  ..., -0.3960,  0.9034, -0.5640],\n",
              "                                               [ 0.6022,  1.1097, -0.4665,  ...,  0.4969,  0.4518, -1.2831],\n",
              "                                               [-0.0673,  0.2330, -1.1216,  ...,  0.2013, -0.7152, -0.7463],\n",
              "                                               ...,\n",
              "                                               [ 0.9317, -0.5703, -1.1288,  ...,  0.6786,  0.5789, -0.5914],\n",
              "                                               [ 0.7975, -0.5585, -1.6231,  ...,  0.3202, -0.1009,  0.3194],\n",
              "                                               [ 0.8773, -0.3589, -0.6686,  ...,  0.6230,  0.5208,  0.2968]],\n",
              "                                     \n",
              "                                              [[ 0.6599,  0.2371,  0.0620,  ...,  0.4851,  0.6005,  0.1434],\n",
              "                                               [ 0.5045, -0.2773,  0.2595,  ..., -0.1618,  0.3662,  0.0678],\n",
              "                                               [ 0.1524,  0.0063,  0.5262,  ...,  0.3181,  0.6693, -0.6975],\n",
              "                                               ...,\n",
              "                                               [-0.1674, -0.4004, -0.0167,  ...,  0.2310,  0.7916, -0.4569],\n",
              "                                               [ 0.2044, -0.7606, -0.3766,  ...,  0.3409, -0.0891, -0.5188],\n",
              "                                               [-0.1473, -0.3892,  0.0970,  ...,  0.6101,  0.3622, -1.2527]],\n",
              "                                     \n",
              "                                              [[-1.4527, -0.5778, -0.1249,  ...,  0.7899, -0.8314,  0.4216],\n",
              "                                               [-0.1163, -0.3036, -0.1406,  ..., -0.2920,  0.1048, -0.6822],\n",
              "                                               [-0.4219, -0.0927,  0.2348,  ...,  0.8097, -0.5969,  0.6254],\n",
              "                                               ...,\n",
              "                                               [-0.5931, -0.1260,  0.0061,  ..., -0.4709,  0.2106,  0.4840],\n",
              "                                               [ 0.1433, -0.2661,  0.2387,  ..., -0.0642,  0.5516, -0.1973],\n",
              "                                               [-0.4970, -0.5579, -0.0362,  ..., -0.1274,  0.2728,  0.2214]],\n",
              "                                     \n",
              "                                              ...,\n",
              "                                     \n",
              "                                              [[ 0.0934,  1.1469, -0.5426,  ...,  0.3692,  0.3609, -0.0308],\n",
              "                                               [-0.0860, -0.1252,  1.0174,  ..., -0.5537, -0.3006, -0.1234],\n",
              "                                               [-0.2968,  0.2350, -0.4599,  ..., -0.2582, -0.1104, -0.3386],\n",
              "                                               ...,\n",
              "                                               [-0.2717, -0.1443,  0.4942,  ...,  0.4297,  0.3594, -0.3905],\n",
              "                                               [-0.2623,  0.3248,  0.4981,  ..., -0.1893,  0.0920, -0.6004],\n",
              "                                               [-0.1511,  0.3317,  0.7371,  ...,  0.3353,  0.6764, -0.6843]],\n",
              "                                     \n",
              "                                              [[ 0.9777, -0.1014,  1.3613,  ..., -0.2439, -0.3044, -0.5429],\n",
              "                                               [ 0.6625,  0.1689,  1.4473,  ..., -0.1803,  0.9865, -0.0678],\n",
              "                                               [ 1.1070,  1.0295,  1.0074,  ..., -0.1767,  0.9675,  0.1539],\n",
              "                                               ...,\n",
              "                                               [ 0.9260,  0.6285,  1.0591,  ..., -0.2657,  0.3746,  0.2763],\n",
              "                                               [ 0.8138,  0.2820,  1.1466,  ..., -0.6265, -0.6102, -0.7840],\n",
              "                                               [ 1.1172,  0.1210,  0.8879,  ..., -0.5666, -0.5141, -0.5142]],\n",
              "                                     \n",
              "                                              [[-0.9903,  0.3091,  0.1869,  ...,  1.2943, -0.1114, -0.4417],\n",
              "                                               [-1.1481,  0.5378,  0.4468,  ...,  0.5802, -0.2647, -0.0246],\n",
              "                                               [-0.7552,  0.0936, -0.4960,  ...,  0.7891, -0.0548,  0.1601],\n",
              "                                               ...,\n",
              "                                               [-0.5676, -0.1813,  0.4069,  ...,  0.8851, -0.5432,  0.2119],\n",
              "                                               [-1.0362, -0.2119, -0.1317,  ...,  0.3459,  0.0321,  0.0354],\n",
              "                                               [-0.8320,  0.3894,  0.6202,  ...,  1.0526, -0.0038,  0.5449]]]],\n",
              "                                            grad_fn=<PermuteBackward0>)),\n",
              "                                    (tensor([[[[ 3.1554e-01,  3.7873e-01,  2.3300e-01,  ...,  1.2829e-03,\n",
              "                                                 4.9946e-01, -7.3861e-01],\n",
              "                                               [ 3.1877e-01,  5.0018e-02, -2.6886e-01,  ...,  1.3497e-01,\n",
              "                                                 1.7832e-01, -1.6676e-01],\n",
              "                                               [-4.0504e-01,  2.3781e-01,  1.9171e-01,  ..., -2.3030e-01,\n",
              "                                                 5.5285e-01, -1.1703e+00],\n",
              "                                               ...,\n",
              "                                               [ 2.6872e-01,  1.2531e-01,  5.2544e-01,  ..., -3.6168e-01,\n",
              "                                                 7.0320e-01,  2.1436e-01],\n",
              "                                               [-1.6686e-01,  2.0607e-01,  1.1367e-01,  ..., -6.8562e-02,\n",
              "                                                 6.3757e-01,  9.7488e-02],\n",
              "                                               [-1.6399e-01, -5.6672e-02,  6.1240e-01,  ...,  2.6374e-01,\n",
              "                                                -4.0154e-02, -2.5663e-01]],\n",
              "                                     \n",
              "                                              [[-1.2612e+00,  1.0018e+00,  1.7937e-01,  ...,  7.7991e-01,\n",
              "                                                -1.0369e+00, -6.1355e-01],\n",
              "                                               [-1.1320e+00,  1.2370e+00, -6.8617e-02,  ...,  6.5248e-01,\n",
              "                                                -6.1414e-01, -4.5082e-01],\n",
              "                                               [-6.2162e-01,  8.7745e-02, -4.1550e-01,  ...,  9.3296e-01,\n",
              "                                                -1.5198e+00, -1.0510e+00],\n",
              "                                               ...,\n",
              "                                               [-5.1859e-01,  1.0894e+00, -3.0845e-01,  ...,  6.9886e-01,\n",
              "                                                -4.9761e-01, -1.2093e+00],\n",
              "                                               [-7.2396e-01,  7.2299e-01, -6.0287e-01,  ...,  1.3514e+00,\n",
              "                                                -1.2026e+00, -1.0818e+00],\n",
              "                                               [-8.5255e-01,  5.4015e-01,  1.2291e-02,  ...,  6.5096e-01,\n",
              "                                                -8.4493e-01, -1.3003e+00]],\n",
              "                                     \n",
              "                                              [[ 1.4676e-01,  6.6430e-01, -1.1168e-01,  ..., -6.6338e-01,\n",
              "                                                -1.0319e+00, -4.3688e-02],\n",
              "                                               [ 8.0575e-01, -3.2795e-02,  6.0196e-01,  ..., -2.9926e-01,\n",
              "                                                -8.1357e-01,  2.1402e-01],\n",
              "                                               [-4.3518e-01,  1.5688e-01,  9.4095e-01,  ..., -4.2490e-01,\n",
              "                                                -1.2743e+00, -8.7933e-02],\n",
              "                                               ...,\n",
              "                                               [ 3.4199e-02, -2.0741e-01,  8.2820e-01,  ...,  6.5276e-01,\n",
              "                                                -5.2611e-01,  8.7865e-02],\n",
              "                                               [ 3.7282e-01,  4.1025e-01,  8.5832e-01,  ...,  5.0177e-01,\n",
              "                                                -5.1712e-02,  3.5642e-02],\n",
              "                                               [ 4.2872e-01,  3.3140e-01,  3.3765e-01,  ...,  7.7161e-01,\n",
              "                                                -7.5330e-01,  7.7575e-01]],\n",
              "                                     \n",
              "                                              ...,\n",
              "                                     \n",
              "                                              [[-4.1676e-02, -8.0717e-01, -5.6760e-01,  ..., -1.5389e-01,\n",
              "                                                -1.5278e-01, -3.5344e-01],\n",
              "                                               [-3.0711e-01, -3.8475e-01, -1.8684e-01,  ...,  5.5486e-01,\n",
              "                                                 1.3879e+00, -6.5641e-01],\n",
              "                                               [-6.2799e-01,  1.2207e-01, -5.2831e-01,  ..., -1.0664e+00,\n",
              "                                                 8.7401e-01,  2.5456e-01],\n",
              "                                               ...,\n",
              "                                               [-8.4117e-01,  6.5518e-01,  3.5868e-01,  ..., -5.8942e-01,\n",
              "                                                 2.3386e-01,  2.2072e-01],\n",
              "                                               [-1.0909e+00,  5.4401e-01, -7.9887e-02,  ..., -7.2632e-01,\n",
              "                                                 2.9926e-01, -2.4818e-01],\n",
              "                                               [-4.8926e-01, -6.5476e-02, -1.8770e-01,  ...,  2.5881e-01,\n",
              "                                                 5.3873e-01,  9.6454e-02]],\n",
              "                                     \n",
              "                                              [[-3.0147e-01,  3.7001e-01,  2.1117e-01,  ..., -6.8419e-04,\n",
              "                                                 7.8842e-01, -9.6145e-01],\n",
              "                                               [ 5.9877e-02, -1.4708e-01,  5.3314e-03,  ...,  7.3067e-01,\n",
              "                                                 4.1845e-01, -6.2051e-01],\n",
              "                                               [-5.7107e-01,  6.7583e-01,  9.0657e-02,  ...,  1.1925e+00,\n",
              "                                                 3.7596e-01, -4.2209e-01],\n",
              "                                               ...,\n",
              "                                               [-4.2948e-01, -5.6075e-01,  4.5031e-01,  ...,  1.2540e+00,\n",
              "                                                 7.9466e-01,  6.1849e-02],\n",
              "                                               [-2.9221e-01,  2.9431e-01,  1.6480e-01,  ...,  1.2095e+00,\n",
              "                                                 1.2931e+00, -3.1675e-01],\n",
              "                                               [-3.9913e-01,  2.7372e-01,  7.2407e-01,  ...,  1.1242e+00,\n",
              "                                                 2.1102e-01, -6.6108e-01]],\n",
              "                                     \n",
              "                                              [[-9.4696e-02, -8.1598e-02, -1.5398e+00,  ...,  4.4757e-01,\n",
              "                                                -6.9114e-01,  4.5544e-02],\n",
              "                                               [ 2.5176e-01, -6.5505e-01, -6.7275e-02,  ...,  6.4203e-01,\n",
              "                                                 4.5951e-01,  6.6930e-02],\n",
              "                                               [ 4.6329e-01, -8.6408e-01, -8.2295e-01,  ...,  8.4257e-01,\n",
              "                                                 4.7519e-01,  2.9569e-01],\n",
              "                                               ...,\n",
              "                                               [-2.0857e-02, -7.9522e-01, -6.7983e-01,  ...,  3.7809e-01,\n",
              "                                                 3.8829e-01,  5.2992e-01],\n",
              "                                               [ 1.0748e-01, -7.3816e-01, -6.5684e-01,  ...,  7.9500e-01,\n",
              "                                                 3.4398e-01,  2.1379e-01],\n",
              "                                               [-2.7864e-01, -9.2077e-01, -4.9200e-01,  ...,  2.0165e-01,\n",
              "                                                 4.5905e-01,  9.2148e-01]]]], grad_fn=<PermuteBackward0>),\n",
              "                                     tensor([[[[-1.5749e-01,  1.4625e+00,  5.0978e-01,  ..., -5.8319e-01,\n",
              "                                                -2.6964e-01,  2.0081e-01],\n",
              "                                               [-1.3310e-01,  2.4504e-01, -7.0261e-01,  ...,  4.1975e-01,\n",
              "                                                -4.5546e-01,  5.4080e-01],\n",
              "                                               [ 2.1459e-01,  2.5348e-01,  1.1737e-02,  ...,  8.1600e-02,\n",
              "                                                -3.6035e-01, -1.7304e-01],\n",
              "                                               ...,\n",
              "                                               [ 5.6710e-01, -3.1147e-01,  5.6075e-01,  ..., -4.1373e-01,\n",
              "                                                -3.0764e-01, -1.2959e-01],\n",
              "                                               [ 9.3351e-01,  3.4488e-02,  6.5606e-01,  ..., -4.0501e-01,\n",
              "                                                -1.4114e-01,  1.3484e-01],\n",
              "                                               [ 1.0205e+00,  2.6850e-01, -1.1662e-01,  ..., -6.1932e-01,\n",
              "                                                -6.4781e-01, -1.9442e-01]],\n",
              "                                     \n",
              "                                              [[ 1.0009e+00, -8.9900e-02,  2.2127e-01,  ..., -3.3859e-01,\n",
              "                                                -1.8046e-01,  5.4397e-01],\n",
              "                                               [ 7.9179e-01,  6.5565e-01,  2.5710e-01,  ...,  6.0542e-01,\n",
              "                                                -5.9428e-01,  2.2483e-01],\n",
              "                                               [ 9.0467e-02,  7.3392e-01,  5.2867e-02,  ..., -4.5921e-01,\n",
              "                                                -3.6910e-01,  3.7348e-01],\n",
              "                                               ...,\n",
              "                                               [ 3.5276e-01,  9.6188e-01, -2.5589e-01,  ...,  6.4468e-01,\n",
              "                                                -1.0634e-01, -9.0964e-02],\n",
              "                                               [ 1.2870e+00,  1.6391e+00,  4.3470e-01,  ...,  3.0288e-01,\n",
              "                                                -4.2482e-01,  3.8172e-01],\n",
              "                                               [ 1.3486e+00,  1.7759e+00, -1.9997e-01,  ..., -2.2526e-01,\n",
              "                                                -6.1527e-01,  3.5781e-01]],\n",
              "                                     \n",
              "                                              [[-3.6413e-01, -9.6184e-01,  2.2164e-01,  ..., -8.0942e-02,\n",
              "                                                 1.0459e+00,  3.4558e-01],\n",
              "                                               [ 5.3481e-01, -2.0715e-01,  1.1315e+00,  ..., -1.1837e-01,\n",
              "                                                -5.1940e-02, -4.7796e-01],\n",
              "                                               [ 6.1094e-01, -5.7225e-01, -1.2535e-01,  ..., -1.3199e+00,\n",
              "                                                -9.0625e-02, -1.5360e-01],\n",
              "                                               ...,\n",
              "                                               [-5.8272e-01,  1.9586e-02, -1.5170e-01,  ..., -7.1987e-01,\n",
              "                                                -3.3608e-01, -6.3220e-02],\n",
              "                                               [-2.3019e-01, -4.0972e-01, -3.5772e-01,  ..., -8.0985e-01,\n",
              "                                                 2.4778e-04, -3.3377e-04],\n",
              "                                               [ 4.4167e-02, -2.9220e-01, -1.9416e-01,  ..., -9.7110e-01,\n",
              "                                                 2.7022e-01, -4.8048e-01]],\n",
              "                                     \n",
              "                                              ...,\n",
              "                                     \n",
              "                                              [[ 3.5668e-01, -5.4327e-01, -4.8876e-01,  ..., -1.8749e-01,\n",
              "                                                 3.5785e-01, -4.6826e-01],\n",
              "                                               [ 4.9211e-01,  4.4847e-01, -1.0249e+00,  ...,  2.4014e-02,\n",
              "                                                -3.6611e-01, -5.5985e-01],\n",
              "                                               [-2.1313e-01, -4.3306e-01, -1.0051e+00,  ..., -9.2457e-01,\n",
              "                                                 6.2089e-02, -4.7332e-01],\n",
              "                                               ...,\n",
              "                                               [ 1.0439e-01, -2.8193e-01, -1.7427e+00,  ..., -7.7035e-01,\n",
              "                                                -3.5060e-01, -4.7589e-01],\n",
              "                                               [-6.9896e-02, -1.4832e-01, -1.0975e+00,  ..., -8.6050e-01,\n",
              "                                                 1.9515e-01, -2.2327e-01],\n",
              "                                               [-5.6213e-01, -2.3293e-01, -1.3231e+00,  ..., -4.9674e-01,\n",
              "                                                 4.7183e-02,  1.6061e-01]],\n",
              "                                     \n",
              "                                              [[-3.8592e-01,  3.3970e-01,  2.9041e-01,  ..., -8.9554e-01,\n",
              "                                                -2.0493e-01, -2.2404e-01],\n",
              "                                               [ 2.7451e-01,  4.0720e-01,  3.9596e-01,  ..., -5.7356e-01,\n",
              "                                                -7.5907e-01, -6.0630e-01],\n",
              "                                               [-2.3763e-02,  2.8948e-01,  2.3981e-01,  ..., -3.8010e-01,\n",
              "                                                -5.8508e-01,  6.5138e-01],\n",
              "                                               ...,\n",
              "                                               [-5.3878e-02,  2.4869e-01, -6.9116e-03,  ..., -7.3652e-01,\n",
              "                                                 4.8127e-02, -6.3373e-01],\n",
              "                                               [-4.4883e-01,  9.6871e-02,  2.4395e-01,  ..., -7.3370e-01,\n",
              "                                                -1.7054e-01, -6.2619e-01],\n",
              "                                               [ 1.7975e-02, -1.8914e-01,  6.1395e-01,  ..., -8.5709e-01,\n",
              "                                                -5.7110e-01, -8.0381e-01]],\n",
              "                                     \n",
              "                                              [[-1.1928e+00, -3.5224e-01, -3.3202e-01,  ..., -5.1254e-01,\n",
              "                                                 5.3206e-01,  6.1159e-01],\n",
              "                                               [-5.8973e-03,  5.1595e-02, -2.3380e-01,  ..., -8.2444e-01,\n",
              "                                                 1.1355e-01,  2.5424e-01],\n",
              "                                               [ 7.0881e-01,  3.9893e-02, -9.4644e-01,  ..., -3.7735e-01,\n",
              "                                                -4.8779e-01, -3.4865e-01],\n",
              "                                               ...,\n",
              "                                               [ 2.0963e-01, -2.4688e-01, -7.6227e-01,  ..., -2.9852e-01,\n",
              "                                                -3.8150e-01,  1.3090e-01],\n",
              "                                               [ 3.1598e-01, -2.8360e-01, -5.3398e-01,  ..., -5.7074e-01,\n",
              "                                                 5.9830e-02,  2.7212e-02],\n",
              "                                               [ 1.7445e-01, -1.8595e-01, -6.0875e-01,  ..., -4.8190e-01,\n",
              "                                                 3.9326e-02, -3.1658e-01]]]], grad_fn=<PermuteBackward0>)),\n",
              "                                    (tensor([[[[ 2.1862e-01, -8.2072e-02,  9.4928e-01,  ...,  3.5617e-01,\n",
              "                                                 1.0443e-01,  5.3056e-01],\n",
              "                                               [ 6.9303e-02, -1.3114e-01,  4.7913e-01,  ...,  2.0931e-01,\n",
              "                                                -3.3766e-01,  9.1615e-01],\n",
              "                                               [ 3.8288e-01,  6.7837e-01,  9.0934e-01,  ...,  7.2289e-01,\n",
              "                                                -4.0307e-01,  4.5838e-01],\n",
              "                                               ...,\n",
              "                                               [-7.1873e-01,  3.5665e-01,  6.7188e-01,  ..., -1.4468e-01,\n",
              "                                                 4.0765e-03,  3.1700e-01],\n",
              "                                               [-5.4706e-02,  6.6749e-01,  4.1701e-01,  ...,  1.0328e-01,\n",
              "                                                -1.0706e-01,  5.3204e-01],\n",
              "                                               [ 1.6260e-01,  2.0283e-01,  5.7975e-01,  ..., -4.3002e-01,\n",
              "                                                -1.0615e-01,  2.1309e-01]],\n",
              "                                     \n",
              "                                              [[ 8.9560e-01,  5.4184e-01,  1.6535e-01,  ...,  1.2101e+00,\n",
              "                                                 5.9937e-01,  9.8567e-01],\n",
              "                                               [ 4.3526e-01, -3.2260e-01,  7.5950e-01,  ...,  2.0106e-01,\n",
              "                                                 4.6751e-01,  6.8681e-01],\n",
              "                                               [-4.1152e-02, -7.1634e-01,  3.7300e-01,  ...,  3.4480e-01,\n",
              "                                                -3.0020e-01,  3.3785e-01],\n",
              "                                               ...,\n",
              "                                               [ 1.2405e-01,  3.2088e-01, -2.0773e-01,  ..., -9.0145e-02,\n",
              "                                                -5.4444e-01,  3.6473e-01],\n",
              "                                               [-5.5807e-01,  1.6646e-01,  1.2824e-01,  ..., -2.7186e-01,\n",
              "                                                 1.7337e-01,  8.6129e-01],\n",
              "                                               [-3.9166e-01, -5.4587e-01, -3.8887e-01,  ...,  2.0594e-01,\n",
              "                                                -1.1077e-01,  8.0143e-01]],\n",
              "                                     \n",
              "                                              [[-7.9569e-03,  8.8788e-01, -5.0985e-01,  ...,  1.4203e-01,\n",
              "                                                 5.8528e-02,  6.1970e-01],\n",
              "                                               [-6.5267e-02,  1.1843e-03,  5.3343e-01,  ...,  4.7548e-01,\n",
              "                                                 3.9474e-02,  1.4645e-01],\n",
              "                                               [ 3.0016e-01, -1.2174e-02,  4.5492e-01,  ..., -7.5843e-01,\n",
              "                                                -1.3225e-02,  2.3115e-01],\n",
              "                                               ...,\n",
              "                                               [-2.9137e-01,  2.5518e-02,  2.9894e-01,  ..., -7.2157e-01,\n",
              "                                                -2.2688e-01,  1.3663e+00],\n",
              "                                               [ 3.9491e-01,  6.5079e-02,  2.0072e-01,  ..., -3.9629e-01,\n",
              "                                                 2.4659e-01,  1.4419e+00],\n",
              "                                               [ 3.9302e-01, -4.4468e-01, -2.2073e-01,  ..., -3.5996e-02,\n",
              "                                                -1.6673e-01,  7.8703e-01]],\n",
              "                                     \n",
              "                                              ...,\n",
              "                                     \n",
              "                                              [[ 1.8034e+00,  1.9092e+00,  2.3602e-01,  ...,  1.8439e-01,\n",
              "                                                 8.3170e-01,  6.7972e-01],\n",
              "                                               [ 1.2363e+00,  1.6104e+00, -3.2055e-01,  ...,  3.3144e-01,\n",
              "                                                 9.3133e-01,  6.5717e-01],\n",
              "                                               [ 2.9178e-01,  1.3897e+00, -2.6091e-01,  ..., -7.6120e-01,\n",
              "                                                 2.9355e-01,  3.4701e-01],\n",
              "                                               ...,\n",
              "                                               [-2.6103e-01,  6.3681e-01,  5.4266e-01,  ...,  7.8650e-02,\n",
              "                                                 1.9362e-01,  5.6266e-01],\n",
              "                                               [-1.2459e-02,  5.1854e-01,  6.1120e-01,  ...,  1.9483e-01,\n",
              "                                                 2.4947e-01,  4.0697e-01],\n",
              "                                               [ 4.1990e-01,  4.9706e-01,  2.6336e-01,  ...,  1.9200e-01,\n",
              "                                                -3.7672e-01,  7.6841e-01]],\n",
              "                                     \n",
              "                                              [[-1.1579e+00,  5.5200e-01,  2.1616e-01,  ..., -9.9699e-01,\n",
              "                                                -3.6302e-01,  8.5021e-01],\n",
              "                                               [-1.7923e+00, -3.5489e-01,  1.6989e-01,  ..., -7.7090e-01,\n",
              "                                                 1.5704e-01,  8.8384e-01],\n",
              "                                               [-1.2839e+00, -1.2010e-01, -1.1909e-01,  ..., -4.9518e-01,\n",
              "                                                -3.4503e-01,  6.1789e-01],\n",
              "                                               ...,\n",
              "                                               [-6.6964e-01, -2.8149e-01,  3.7632e-01,  ..., -1.3421e-01,\n",
              "                                                -1.5487e-01,  1.4003e+00],\n",
              "                                               [-7.1930e-01,  1.9190e-01,  2.2377e-01,  ..., -3.6326e-01,\n",
              "                                                 2.1877e-01,  1.3520e+00],\n",
              "                                               [-5.7945e-01, -4.7114e-01, -9.2880e-02,  ..., -8.6750e-02,\n",
              "                                                 1.3962e-01,  8.2818e-01]],\n",
              "                                     \n",
              "                                              [[-6.3564e-01, -3.9462e-01,  1.6583e-01,  ...,  3.9193e-01,\n",
              "                                                 8.9235e-01, -4.6119e-01],\n",
              "                                               [-9.5242e-01,  1.3530e-01,  1.0459e-01,  ...,  2.8306e-01,\n",
              "                                                 5.4848e-01, -4.4582e-01],\n",
              "                                               [-1.2728e+00, -1.1222e-01, -1.3623e-01,  ...,  4.2180e-02,\n",
              "                                                -1.4906e-01, -4.8750e-01],\n",
              "                                               ...,\n",
              "                                               [-1.0701e+00, -6.5627e-01, -4.1975e-01,  ...,  1.1021e-01,\n",
              "                                                 7.2429e-01, -3.0342e-01],\n",
              "                                               [-1.0317e+00, -8.2277e-01, -1.9707e-01,  ...,  3.4723e-02,\n",
              "                                                 4.4575e-01, -3.4883e-02],\n",
              "                                               [-9.7737e-01, -6.1267e-01,  4.4979e-01,  ..., -9.2234e-01,\n",
              "                                                 8.4438e-01,  6.8029e-01]]]], grad_fn=<PermuteBackward0>),\n",
              "                                     tensor([[[[ 0.0733, -0.2201, -0.2320,  ..., -0.5583,  0.1444,  0.4061],\n",
              "                                               [ 0.4499, -0.1445,  0.1945,  ...,  0.2611, -0.0262, -0.9946],\n",
              "                                               [ 0.4927, -0.1432,  0.2935,  ...,  0.2872,  0.1768, -0.5509],\n",
              "                                               ...,\n",
              "                                               [ 0.2437, -0.2681, -0.0420,  ...,  0.3624, -0.1155, -0.9706],\n",
              "                                               [ 0.8598, -0.7464, -0.1906,  ...,  0.5365,  0.3209, -0.8115],\n",
              "                                               [ 0.7978, -0.3704,  0.5466,  ...,  0.8483, -0.4850, -0.1562]],\n",
              "                                     \n",
              "                                              [[ 0.2690, -0.3444,  0.6506,  ...,  0.2645, -0.3715,  0.7153],\n",
              "                                               [-0.1661, -0.0978,  0.4770,  ..., -0.0675, -1.1297, -0.0770],\n",
              "                                               [-0.0640, -0.3170,  0.6480,  ...,  0.8320,  0.1126,  0.2853],\n",
              "                                               ...,\n",
              "                                               [ 0.1312, -0.0235,  0.4881,  ...,  0.7270,  0.0369, -0.7223],\n",
              "                                               [-0.7886,  0.3667,  0.8175,  ...,  0.6338,  0.0187, -0.5190],\n",
              "                                               [-0.4513,  0.1478,  0.1985,  ...,  0.4092,  0.2054, -0.6160]],\n",
              "                                     \n",
              "                                              [[-0.3592,  0.6434, -0.1514,  ...,  0.3139,  0.2600,  0.7781],\n",
              "                                               [-1.2581,  0.7075, -0.1867,  ...,  0.1884, -0.3613,  0.2976],\n",
              "                                               [ 0.0734,  0.6818,  0.5031,  ...,  0.7771,  0.4159,  1.5454],\n",
              "                                               ...,\n",
              "                                               [ 0.2044,  1.4408, -0.0641,  ...,  0.2632,  0.2534,  0.5319],\n",
              "                                               [-0.4541,  0.9325,  0.2654,  ..., -0.1073,  0.4585,  0.3206],\n",
              "                                               [-0.4160,  0.4522, -0.0922,  ...,  0.2135,  0.2583,  0.6549]],\n",
              "                                     \n",
              "                                              ...,\n",
              "                                     \n",
              "                                              [[ 0.3578,  0.1200, -0.9906,  ..., -0.5963, -0.2211, -0.2765],\n",
              "                                               [ 0.7425, -0.3123, -0.4276,  ..., -0.4285,  0.9773, -0.7757],\n",
              "                                               [ 0.3119,  0.0021, -0.5976,  ..., -1.1743, -0.5107, -0.4131],\n",
              "                                               ...,\n",
              "                                               [ 0.0416, -0.4345, -0.2542,  ..., -0.4749, -0.1726,  0.4215],\n",
              "                                               [ 0.2860, -1.2007, -0.1527,  ..., -0.9183, -0.2654,  0.0649],\n",
              "                                               [ 0.1394, -0.7641, -0.4899,  ..., -0.2901,  0.4383, -0.6206]],\n",
              "                                     \n",
              "                                              [[ 0.1168, -1.4845,  0.0726,  ...,  0.0462,  0.1732, -0.1275],\n",
              "                                               [-0.2256, -1.1773, -0.2892,  ...,  0.5726, -0.4751, -0.4003],\n",
              "                                               [-0.2461, -0.9907, -0.1139,  ...,  0.5196, -1.0053,  0.2125],\n",
              "                                               ...,\n",
              "                                               [-0.5868, -0.3032,  0.7825,  ...,  0.7337, -0.8964, -0.6732],\n",
              "                                               [-0.8370, -0.3698, -0.0188,  ...,  0.5125, -0.9394, -0.4544],\n",
              "                                               [-0.4724, -0.2638,  0.4524,  ..., -0.1004, -0.8481, -0.6446]],\n",
              "                                     \n",
              "                                              [[-0.1562,  0.3420, -0.0214,  ...,  0.3320, -0.4835,  0.1702],\n",
              "                                               [ 0.0283,  0.2788, -0.0257,  ..., -0.1433, -0.5031,  0.3687],\n",
              "                                               [-0.6363,  0.5835,  0.0477,  ..., -0.4486, -0.0235,  0.8332],\n",
              "                                               ...,\n",
              "                                               [-0.1181,  0.1906,  0.7582,  ..., -0.4380, -0.3659,  0.1425],\n",
              "                                               [-0.0051, -0.0378,  0.7964,  ..., -0.5291, -0.2301, -0.1652],\n",
              "                                               [ 0.3036,  0.3240, -0.2478,  ..., -0.0755, -1.1116,  0.4033]]]],\n",
              "                                            grad_fn=<PermuteBackward0>)),\n",
              "                                    (tensor([[[[-7.2273e-01, -3.7915e-01, -1.4566e-01,  ...,  1.0809e+00,\n",
              "                                                -6.7641e-01,  1.0198e-01],\n",
              "                                               [ 1.1416e-02, -1.6641e+00,  5.8748e-01,  ...,  1.0820e+00,\n",
              "                                                -5.0869e-01, -8.0973e-01],\n",
              "                                               [-3.6747e-01, -2.1956e-01,  1.6529e-01,  ...,  3.1489e-01,\n",
              "                                                -6.8038e-01, -4.7356e-01],\n",
              "                                               ...,\n",
              "                                               [-4.1376e-01, -1.6568e+00, -4.6652e-02,  ...,  3.6105e-01,\n",
              "                                                -3.7696e-01, -8.9153e-01],\n",
              "                                               [-7.3293e-01, -2.0529e+00, -2.6280e-01,  ..., -1.4737e-02,\n",
              "                                                 4.6871e-01, -1.0497e+00],\n",
              "                                               [-4.3822e-01, -1.4803e+00,  2.8437e-01,  ...,  4.1731e-01,\n",
              "                                                 2.9825e-01, -8.7025e-01]],\n",
              "                                     \n",
              "                                              [[ 4.7175e-01, -4.8837e-01, -8.9465e-02,  ...,  9.6683e-01,\n",
              "                                                -5.7190e-01,  8.7782e-01],\n",
              "                                               [-5.7608e-01, -7.4542e-01,  2.7116e-01,  ...,  5.9799e-01,\n",
              "                                                -7.0837e-01,  2.2418e-02],\n",
              "                                               [ 5.1158e-01, -1.3109e-01, -2.6430e-02,  ...,  5.3056e-01,\n",
              "                                                 2.6734e-01,  4.3695e-01],\n",
              "                                               ...,\n",
              "                                               [ 4.3647e-01,  2.0465e-01, -4.8433e-01,  ...,  3.9463e-01,\n",
              "                                                 4.3663e-01, -8.8329e-03],\n",
              "                                               [-5.6490e-01,  2.0520e-01, -9.8762e-01,  ..., -1.7567e-01,\n",
              "                                                -9.2430e-03,  7.6443e-03],\n",
              "                                               [ 2.9301e-01,  4.0505e-01, -5.3875e-01,  ...,  9.0857e-01,\n",
              "                                                 3.5893e-01, -2.3413e-01]],\n",
              "                                     \n",
              "                                              [[-6.5958e-01,  5.0014e-01, -3.9785e-02,  ..., -3.9701e-01,\n",
              "                                                -2.4074e-01, -1.3288e-01],\n",
              "                                               [ 7.0531e-01,  5.6921e-01,  8.0025e-01,  ..., -6.1609e-01,\n",
              "                                                 2.7261e-01,  1.0853e-01],\n",
              "                                               [ 4.9895e-01,  2.1866e-02, -5.7109e-02,  ..., -5.6522e-01,\n",
              "                                                 9.8817e-02, -4.8913e-01],\n",
              "                                               ...,\n",
              "                                               [ 4.0974e-01, -8.9398e-02,  7.3968e-01,  ..., -9.5815e-01,\n",
              "                                                 5.9135e-01, -8.3559e-02],\n",
              "                                               [ 9.1820e-01,  3.8604e-01,  1.8457e-01,  ..., -4.0126e-01,\n",
              "                                                 3.2597e-02, -2.7377e-01],\n",
              "                                               [ 4.7468e-01,  5.8944e-01,  9.7871e-01,  ..., -3.4148e-01,\n",
              "                                                 5.4624e-01,  6.1989e-02]],\n",
              "                                     \n",
              "                                              ...,\n",
              "                                     \n",
              "                                              [[-4.8027e-01,  1.7925e-03, -2.0286e-01,  ...,  7.5565e-01,\n",
              "                                                 1.2807e-01,  9.9401e-02],\n",
              "                                               [-9.1481e-02, -2.9845e-01, -7.2177e-01,  ...,  1.2155e+00,\n",
              "                                                 2.7516e-02,  5.2123e-01],\n",
              "                                               [-5.5398e-01, -3.7209e-01, -5.4272e-01,  ...,  1.1097e+00,\n",
              "                                                -1.6850e-01, -4.8592e-01],\n",
              "                                               ...,\n",
              "                                               [-6.1786e-01, -1.0298e+00, -1.2599e+00,  ...,  5.0686e-01,\n",
              "                                                -3.4941e-02,  6.3047e-01],\n",
              "                                               [-8.3762e-01, -5.4843e-01, -1.1530e+00,  ...,  6.2502e-01,\n",
              "                                                -7.1568e-01,  5.9352e-01],\n",
              "                                               [-7.1393e-01, -5.9106e-01, -1.4391e+00,  ...,  8.5050e-01,\n",
              "                                                -7.1771e-03,  8.5569e-01]],\n",
              "                                     \n",
              "                                              [[ 2.2669e-01,  2.3301e-01,  1.0243e-01,  ..., -5.0449e-03,\n",
              "                                                -2.3426e-02,  8.6043e-01],\n",
              "                                               [-5.0487e-01, -1.9678e-01, -1.5561e-01,  ...,  1.3911e+00,\n",
              "                                                -2.9384e-02,  8.3502e-01],\n",
              "                                               [-3.7447e-01,  3.6530e-02, -1.4223e-01,  ...,  6.4230e-01,\n",
              "                                                -4.7745e-01,  4.5393e-01],\n",
              "                                               ...,\n",
              "                                               [-8.8469e-01, -5.3787e-01,  5.6917e-01,  ..., -2.7372e-02,\n",
              "                                                -7.9539e-01, -5.6051e-01],\n",
              "                                               [-8.1358e-01,  8.0332e-02,  4.0912e-01,  ...,  7.4515e-01,\n",
              "                                                -3.5563e-01,  4.5121e-02],\n",
              "                                               [-2.7246e-01, -5.7698e-01,  6.2976e-01,  ...,  3.0067e-01,\n",
              "                                                -4.2029e-01, -2.2121e-01]],\n",
              "                                     \n",
              "                                              [[-1.5782e-01, -8.4911e-02, -3.6318e-01,  ..., -6.0612e-02,\n",
              "                                                 2.5816e-01,  4.1897e-01],\n",
              "                                               [-3.2616e-01, -1.2566e-01,  1.7743e-01,  ..., -1.7672e-01,\n",
              "                                                -1.2499e-01,  4.8241e-01],\n",
              "                                               [-5.3671e-01, -2.7875e-01,  3.2855e-02,  ...,  2.6455e-01,\n",
              "                                                -3.1116e-01, -2.0066e-01],\n",
              "                                               ...,\n",
              "                                               [-2.8767e-01, -8.6329e-01, -2.9932e-01,  ..., -3.7488e-02,\n",
              "                                                 9.2894e-02,  8.9089e-02],\n",
              "                                               [-9.6690e-01,  6.1661e-02, -4.4991e-01,  ..., -3.8045e-01,\n",
              "                                                -3.5589e-02, -2.0155e-02],\n",
              "                                               [-1.8357e-01,  3.7049e-01,  6.4193e-02,  ..., -1.4513e-02,\n",
              "                                                -1.0976e-01, -5.6689e-01]]]], grad_fn=<PermuteBackward0>),\n",
              "                                     tensor([[[[-0.2286,  0.1555,  1.0598,  ..., -0.0756,  0.3380,  0.1669],\n",
              "                                               [ 0.3750, -0.2359, -0.1358,  ...,  0.3555, -0.2938, -0.8973],\n",
              "                                               [ 0.5155,  0.5659,  0.1674,  ...,  0.1088, -0.7521,  0.3375],\n",
              "                                               ...,\n",
              "                                               [ 0.1208,  0.1113,  0.1656,  ...,  0.3598, -0.4160, -0.5380],\n",
              "                                               [ 0.2353, -0.8201, -0.0354,  ...,  0.0291,  0.1202, -0.6064],\n",
              "                                               [-0.6646, -0.4058,  0.5573,  ..., -0.5545, -0.2883, -0.2308]],\n",
              "                                     \n",
              "                                              [[ 0.1730, -0.5452,  0.6554,  ...,  0.1703, -1.0157, -0.1998],\n",
              "                                               [ 0.1807,  0.2311,  0.2168,  ...,  0.2365, -0.5027,  0.8173],\n",
              "                                               [-0.9742, -0.7774, -0.8772,  ...,  0.2472, -0.9648,  0.0424],\n",
              "                                               ...,\n",
              "                                               [-0.1548,  1.0037, -0.5300,  ..., -0.1634, -0.6454, -0.4341],\n",
              "                                               [-0.5459,  0.2207, -0.6437,  ...,  0.1322, -0.8922, -0.1754],\n",
              "                                               [-0.2783, -0.1359, -0.7262,  ..., -0.0134, -0.6264, -0.8363]],\n",
              "                                     \n",
              "                                              [[ 0.2424,  0.5641,  0.2602,  ...,  0.3898,  0.3357, -0.6444],\n",
              "                                               [ 0.5213,  0.2258,  0.6670,  ...,  0.4773,  0.6219,  0.7562],\n",
              "                                               [ 0.3921,  1.0865,  0.4758,  ..., -0.1747, -0.1222,  0.1935],\n",
              "                                               ...,\n",
              "                                               [ 0.4507, -0.1322, -0.1563,  ...,  0.6381, -0.6859, -0.0960],\n",
              "                                               [ 0.0870,  0.2290, -0.2985,  ...,  0.3574, -0.3945, -0.3685],\n",
              "                                               [ 0.2785,  0.0896, -0.2139,  ...,  0.7716,  0.2826, -0.0634]],\n",
              "                                     \n",
              "                                              ...,\n",
              "                                     \n",
              "                                              [[ 0.1420,  0.2854,  0.3875,  ...,  0.9858,  1.2594, -0.5153],\n",
              "                                               [-0.0260,  0.1880,  1.1514,  ...,  0.2580,  0.6403, -0.5919],\n",
              "                                               [-0.1000, -0.0792,  0.8770,  ..., -0.1919,  0.5716,  0.1744],\n",
              "                                               ...,\n",
              "                                               [ 0.6179,  0.4915, -0.2430,  ...,  0.5040, -0.2585, -0.5528],\n",
              "                                               [ 0.7406,  0.4028,  0.2005,  ...,  0.3468,  0.4519, -0.5936],\n",
              "                                               [ 0.1275,  1.0903,  0.7396,  ...,  0.2217,  0.2093, -0.3413]],\n",
              "                                     \n",
              "                                              [[ 0.6162,  0.0789,  0.6328,  ...,  0.2665,  0.7887,  0.3784],\n",
              "                                               [-0.0518,  0.4326,  0.1557,  ..., -0.4984, -0.3071,  0.1741],\n",
              "                                               [-0.1469,  0.3268, -0.3053,  ...,  0.2783, -0.1133,  0.3252],\n",
              "                                               ...,\n",
              "                                               [-0.2974,  0.4022,  0.3702,  ..., -0.0383,  1.1890,  0.5099],\n",
              "                                               [ 0.0729,  0.7152,  0.5752,  ...,  0.6222,  0.9817, -0.1501],\n",
              "                                               [ 0.2759,  0.4051,  0.0021,  ...,  0.2349,  0.5744, -0.4058]],\n",
              "                                     \n",
              "                                              [[ 0.1464, -0.3426,  0.3344,  ...,  0.0952, -0.4311,  0.5459],\n",
              "                                               [ 0.4165,  0.8181,  0.1883,  ...,  0.3412, -1.1488,  0.2739],\n",
              "                                               [-0.4493,  1.1305, -0.0637,  ..., -0.1500, -0.1893, -0.2686],\n",
              "                                               ...,\n",
              "                                               [-0.0634,  0.6585,  0.9233,  ...,  0.4972, -0.5899, -0.2553],\n",
              "                                               [ 0.8341,  0.8576,  0.8454,  ..., -0.6062, -0.1611,  0.3279],\n",
              "                                               [-0.3212,  0.1757,  1.3289,  ..., -0.0319, -1.1884, -0.2774]]]],\n",
              "                                            grad_fn=<PermuteBackward0>)),\n",
              "                                    (tensor([[[[-6.6148e-01,  6.1495e-01,  7.4652e-01,  ...,  5.9296e-02,\n",
              "                                                 3.0753e-01,  6.0236e-01],\n",
              "                                               [ 7.5214e-02,  9.2555e-02,  2.2542e-01,  ...,  5.7284e-01,\n",
              "                                                 1.3006e+00, -5.2852e-01],\n",
              "                                               [-3.2591e-01,  7.0748e-01,  7.8261e-01,  ..., -5.1474e-01,\n",
              "                                                 6.1552e-01,  1.1870e-03],\n",
              "                                               ...,\n",
              "                                               [-5.2473e-01,  2.3147e-01,  4.2652e-01,  ..., -4.2856e-01,\n",
              "                                                -8.9069e-02,  1.8561e-01],\n",
              "                                               [-2.3427e-01,  2.7515e-01,  1.2593e-01,  ..., -5.3271e-01,\n",
              "                                                -1.9086e-01,  1.3051e-01],\n",
              "                                               [-5.5738e-01,  6.9889e-01, -6.3293e-01,  ..., -7.5053e-03,\n",
              "                                                 2.4281e-01,  1.2013e-01]],\n",
              "                                     \n",
              "                                              [[-1.0272e+00,  7.6701e-01, -4.3872e-01,  ..., -1.7928e-01,\n",
              "                                                 1.3999e+00,  3.6506e-01],\n",
              "                                               [-7.6932e-02,  1.2090e+00,  6.3788e-01,  ...,  2.5412e-01,\n",
              "                                                -2.0491e-01,  9.2369e-01],\n",
              "                                               [-9.7054e-01,  6.8915e-01, -2.4453e-01,  ..., -2.9711e-01,\n",
              "                                                 6.4954e-02, -6.9955e-02],\n",
              "                                               ...,\n",
              "                                               [-9.7220e-01,  3.0470e-01, -4.2663e-01,  ..., -6.0310e-01,\n",
              "                                                 6.1503e-01,  5.6446e-01],\n",
              "                                               [-5.6923e-01, -2.7373e-01, -1.1864e+00,  ..., -2.8167e-01,\n",
              "                                                -1.9407e-01,  6.7522e-01],\n",
              "                                               [-3.4936e-01,  1.1257e+00, -1.1555e+00,  ..., -6.8063e-01,\n",
              "                                                 6.5842e-01,  2.4918e-01]],\n",
              "                                     \n",
              "                                              [[-1.9682e-01,  8.1870e-01, -1.3895e+00,  ...,  1.4405e+00,\n",
              "                                                 7.9978e-01, -2.5610e-01],\n",
              "                                               [-2.2167e-01, -1.9966e-01, -2.6719e-01,  ...,  1.1664e+00,\n",
              "                                                -4.6181e-01, -3.8591e-01],\n",
              "                                               [-7.8849e-01,  5.3041e-01, -4.9070e-01,  ...,  8.5664e-01,\n",
              "                                                 4.0422e-01,  5.3078e-01],\n",
              "                                               ...,\n",
              "                                               [ 3.3310e-01, -7.7396e-01,  5.3308e-03,  ...,  4.9269e-01,\n",
              "                                                 7.5516e-02,  4.0129e-01],\n",
              "                                               [ 3.3916e-02,  1.2544e-01, -2.6063e-01,  ...,  5.0673e-01,\n",
              "                                                 3.1815e-01,  4.8027e-01],\n",
              "                                               [ 4.7212e-02,  3.6033e-01,  5.3810e-02,  ...,  6.2128e-01,\n",
              "                                                -2.4854e-01, -2.5870e-01]],\n",
              "                                     \n",
              "                                              ...,\n",
              "                                     \n",
              "                                              [[-5.6516e-01,  4.7308e-01, -3.4674e-01,  ..., -3.7418e-01,\n",
              "                                                -1.7151e-01, -5.8603e-01],\n",
              "                                               [-6.4511e-01,  8.4980e-01, -9.8223e-01,  ...,  1.0390e-01,\n",
              "                                                 2.5323e-01, -3.3354e-01],\n",
              "                                               [-9.5293e-01,  5.2192e-01,  1.0065e-01,  ..., -4.0834e-02,\n",
              "                                                 1.0451e-02,  2.1478e-01],\n",
              "                                               ...,\n",
              "                                               [-4.6725e-01,  8.3768e-01, -2.8199e-01,  ...,  1.9432e-01,\n",
              "                                                -2.6646e-01, -2.2454e-01],\n",
              "                                               [-1.2129e+00,  1.7519e-01, -4.1154e-01,  ...,  1.9238e-01,\n",
              "                                                -1.2527e-02, -3.3820e-01],\n",
              "                                               [-1.1695e+00,  5.9464e-01, -7.8554e-02,  ...,  4.3573e-01,\n",
              "                                                 1.4515e-01,  3.6514e-02]],\n",
              "                                     \n",
              "                                              [[ 1.0845e+00,  1.0302e+00, -4.2933e-01,  ..., -5.5931e-01,\n",
              "                                                 4.2630e-01,  2.2835e-01],\n",
              "                                               [ 3.4078e-01,  8.8532e-01,  8.8735e-01,  ...,  7.6162e-02,\n",
              "                                                 1.7072e-01,  3.0540e-01],\n",
              "                                               [ 1.4490e-01,  4.0394e-01,  9.0426e-01,  ..., -5.4939e-01,\n",
              "                                                 1.3019e-01, -1.2983e-01],\n",
              "                                               ...,\n",
              "                                               [ 5.4205e-01,  1.2635e-01, -3.4103e-01,  ..., -1.1069e-01,\n",
              "                                                 5.6618e-01,  1.9088e-01],\n",
              "                                               [ 6.0035e-01,  4.1651e-01,  6.2356e-01,  ..., -1.0570e+00,\n",
              "                                                -5.2015e-01, -1.2548e-01],\n",
              "                                               [ 7.4731e-01,  1.3744e-01,  8.7198e-02,  ...,  3.2125e-02,\n",
              "                                                 6.0301e-01,  5.5093e-01]],\n",
              "                                     \n",
              "                                              [[-6.1936e-01, -6.7432e-02,  4.1852e-02,  ..., -2.7764e-01,\n",
              "                                                -5.7321e-02, -6.8628e-01],\n",
              "                                               [ 3.5689e-03,  7.9427e-01, -4.8132e-03,  ..., -5.0673e-01,\n",
              "                                                 9.8905e-01,  2.3928e-02],\n",
              "                                               [ 1.2448e-01,  3.5887e-03, -4.3234e-01,  ...,  3.9404e-01,\n",
              "                                                 7.3396e-01, -1.5426e-01],\n",
              "                                               ...,\n",
              "                                               [ 1.3545e-01,  3.2806e-01, -3.8242e-01,  ..., -1.8196e-01,\n",
              "                                                 3.5530e-01,  1.7196e-01],\n",
              "                                               [ 6.4634e-01, -2.5001e-02,  1.8121e-01,  ..., -1.7410e-01,\n",
              "                                                 6.5310e-01,  4.4397e-01],\n",
              "                                               [ 8.4274e-01,  3.6826e-01,  4.6787e-01,  ...,  3.7307e-01,\n",
              "                                                 4.5755e-01,  1.9261e-01]]]], grad_fn=<PermuteBackward0>),\n",
              "                                     tensor([[[[-1.0650, -0.3454,  0.0469,  ..., -0.9087,  0.8193,  0.2727],\n",
              "                                               [-0.6137, -0.5899,  0.3558,  ..., -0.4359, -0.1817, -0.3696],\n",
              "                                               [-0.3188, -0.5001,  0.1002,  ..., -0.4571,  0.8720,  0.4417],\n",
              "                                               ...,\n",
              "                                               [-0.0384, -0.4225, -0.5969,  ...,  0.1599, -0.0148, -0.2510],\n",
              "                                               [ 0.0839, -0.6057, -0.9289,  ..., -0.4989,  0.2820, -0.1888],\n",
              "                                               [-1.0176, -0.6563, -0.6671,  ..., -0.3281, -0.2930, -0.0326]],\n",
              "                                     \n",
              "                                              [[ 0.1929, -0.3107, -0.1867,  ...,  0.3800, -0.3448, -0.0229],\n",
              "                                               [-0.1776, -0.5144, -0.3510,  ..., -0.0693, -0.5640,  0.2283],\n",
              "                                               [-0.3013, -0.2322, -0.8854,  ..., -0.3797, -0.0923,  0.3683],\n",
              "                                               ...,\n",
              "                                               [-0.2154, -0.1860, -0.4393,  ..., -0.3966, -0.6200,  1.0125],\n",
              "                                               [-0.2842, -0.1771, -0.6099,  ...,  0.3515, -0.1823,  1.0197],\n",
              "                                               [-0.2831, -0.3206, -0.7502,  ..., -0.5289,  0.6024, -0.0187]],\n",
              "                                     \n",
              "                                              [[ 0.1397,  0.3251, -0.9946,  ..., -0.1654,  0.2225,  0.0066],\n",
              "                                               [-0.1978,  0.9045, -0.7455,  ...,  0.0494,  0.3201, -0.5734],\n",
              "                                               [ 0.4810,  0.8104, -1.4192,  ...,  0.1890,  1.0010, -0.5431],\n",
              "                                               ...,\n",
              "                                               [-0.0211,  1.3788, -1.1332,  ...,  0.4103,  0.7215, -0.2733],\n",
              "                                               [ 0.3113,  0.9037, -0.6876,  ...,  0.4978,  0.9110, -0.2942],\n",
              "                                               [ 0.3579,  0.5627, -1.3374,  ..., -0.7561,  0.5186,  0.2900]],\n",
              "                                     \n",
              "                                              ...,\n",
              "                                     \n",
              "                                              [[-0.1825, -0.3409,  0.1987,  ...,  0.4453,  0.2741, -0.1089],\n",
              "                                               [ 0.0705, -0.3531, -0.0217,  ..., -0.3957,  1.1058, -0.3809],\n",
              "                                               [ 0.4755, -0.4132, -0.1392,  ...,  0.1732,  0.8863, -0.3214],\n",
              "                                               ...,\n",
              "                                               [-0.1503, -0.2458, -0.3180,  ...,  1.0426,  0.8867, -0.3536],\n",
              "                                               [ 0.3164, -0.5318, -0.3883,  ...,  0.8836,  0.3423,  0.3561],\n",
              "                                               [-0.0707, -0.4190, -0.5231,  ...,  0.6964,  0.5013,  0.4717]],\n",
              "                                     \n",
              "                                              [[-0.7660, -0.5256, -0.4365,  ...,  0.6673, -0.0250, -0.3738],\n",
              "                                               [-0.2787, -0.2263, -0.0049,  ..., -0.3578, -0.0527, -1.1430],\n",
              "                                               [-0.4376,  0.4101,  0.4434,  ...,  0.8047,  0.2099, -0.8547],\n",
              "                                               ...,\n",
              "                                               [ 0.1711,  0.7019,  0.5052,  ...,  0.8765, -0.5076, -0.5084],\n",
              "                                               [-0.1907,  0.4933, -0.0657,  ...,  0.2658, -0.2667, -0.9181],\n",
              "                                               [ 0.0375,  1.0992,  0.7796,  ...,  0.4520, -0.1585, -0.6199]],\n",
              "                                     \n",
              "                                              [[-0.2195,  0.5795, -0.1226,  ...,  0.2772, -0.0137,  0.2778],\n",
              "                                               [ 0.1479, -0.1496, -0.6421,  ..., -0.5364,  0.0218,  0.1648],\n",
              "                                               [ 0.1778,  0.1808, -0.5175,  ..., -0.4658, -0.1997, -0.2010],\n",
              "                                               ...,\n",
              "                                               [-0.0857,  0.2097, -0.4061,  ..., -0.2566,  0.0183, -1.0147],\n",
              "                                               [-0.3869, -0.0200, -0.4747,  ..., -0.1563, -0.6073,  0.1393],\n",
              "                                               [ 0.6262, -0.3429, -0.6047,  ..., -0.5472, -0.2431, -0.0266]]]],\n",
              "                                            grad_fn=<PermuteBackward0>)))),\n",
              "                                  ('attentions',\n",
              "                                   (tensor([[[[1.1111, 0.0000, 0.0000,  ..., 0.0000, 0.0000, 0.0000],\n",
              "                                              [0.4387, 0.0000, 0.0000,  ..., 0.0000, 0.0000, 0.0000],\n",
              "                                              [0.3873, 0.3850, 0.3388,  ..., 0.0000, 0.0000, 0.0000],\n",
              "                                              ...,\n",
              "                                              [0.2054, 0.3585, 0.2002,  ..., 0.0000, 0.0000, 0.0000],\n",
              "                                              [0.2714, 0.3800, 0.2159,  ..., 0.0000, 0.0000, 0.0000],\n",
              "                                              [0.2025, 0.4051, 0.0000,  ..., 0.0000, 0.0000, 0.0000]],\n",
              "                                    \n",
              "                                             [[0.0000, 0.0000, 0.0000,  ..., 0.0000, 0.0000, 0.0000],\n",
              "                                              [0.5599, 0.5512, 0.0000,  ..., 0.0000, 0.0000, 0.0000],\n",
              "                                              [0.2577, 0.5829, 0.2705,  ..., 0.0000, 0.0000, 0.0000],\n",
              "                                              ...,\n",
              "                                              [0.3036, 0.3644, 0.0000,  ..., 0.0000, 0.0000, 0.0000],\n",
              "                                              [0.2926, 0.2920, 0.2487,  ..., 0.0000, 0.0000, 0.0000],\n",
              "                                              [0.2497, 0.2787, 0.2262,  ..., 0.0000, 0.0000, 0.0000]],\n",
              "                                    \n",
              "                                             [[1.1111, 0.0000, 0.0000,  ..., 0.0000, 0.0000, 0.0000],\n",
              "                                              [0.4152, 0.6959, 0.0000,  ..., 0.0000, 0.0000, 0.0000],\n",
              "                                              [0.4608, 0.4101, 0.2402,  ..., 0.0000, 0.0000, 0.0000],\n",
              "                                              ...,\n",
              "                                              [0.3143, 0.3218, 0.2091,  ..., 0.0000, 0.0000, 0.0000],\n",
              "                                              [0.3041, 0.2789, 0.2594,  ..., 0.0000, 0.0000, 0.0000],\n",
              "                                              [0.3756, 0.1814, 0.2381,  ..., 0.0000, 0.0000, 0.0000]],\n",
              "                                    \n",
              "                                             ...,\n",
              "                                    \n",
              "                                             [[1.1111, 0.0000, 0.0000,  ..., 0.0000, 0.0000, 0.0000],\n",
              "                                              [0.6939, 0.4172, 0.0000,  ..., 0.0000, 0.0000, 0.0000],\n",
              "                                              [0.5825, 0.3042, 0.2245,  ..., 0.0000, 0.0000, 0.0000],\n",
              "                                              ...,\n",
              "                                              [0.2522, 0.3721, 0.2337,  ..., 0.0000, 0.0000, 0.0000],\n",
              "                                              [0.2161, 0.3760, 0.2138,  ..., 0.0000, 0.0000, 0.0000],\n",
              "                                              [0.1900, 0.3251, 0.2826,  ..., 0.0000, 0.0000, 0.0000]],\n",
              "                                    \n",
              "                                             [[0.0000, 0.0000, 0.0000,  ..., 0.0000, 0.0000, 0.0000],\n",
              "                                              [0.5660, 0.5451, 0.0000,  ..., 0.0000, 0.0000, 0.0000],\n",
              "                                              [0.2753, 0.5859, 0.2499,  ..., 0.0000, 0.0000, 0.0000],\n",
              "                                              ...,\n",
              "                                              [0.3064, 0.2564, 0.3823,  ..., 0.0000, 0.0000, 0.0000],\n",
              "                                              [0.3587, 0.2972, 0.2503,  ..., 0.0000, 0.0000, 0.0000],\n",
              "                                              [0.3559, 0.2550, 0.2994,  ..., 0.0000, 0.0000, 0.0000]],\n",
              "                                    \n",
              "                                             [[1.1111, 0.0000, 0.0000,  ..., 0.0000, 0.0000, 0.0000],\n",
              "                                              [0.4743, 0.6368, 0.0000,  ..., 0.0000, 0.0000, 0.0000],\n",
              "                                              [0.3912, 0.3882, 0.3318,  ..., 0.0000, 0.0000, 0.0000],\n",
              "                                              ...,\n",
              "                                              [0.3293, 0.3052, 0.2075,  ..., 0.0000, 0.0000, 0.0000],\n",
              "                                              [0.3433, 0.2189, 0.2921,  ..., 0.0000, 0.0000, 0.0000],\n",
              "                                              [0.4281, 0.2338, 0.2588,  ..., 0.0000, 0.0000, 0.0000]]]],\n",
              "                                           grad_fn=<MulBackward0>),\n",
              "                                    tensor([[[[1.1111, 0.0000, 0.0000,  ..., 0.0000, 0.0000, 0.0000],\n",
              "                                              [0.5892, 0.5219, 0.0000,  ..., 0.0000, 0.0000, 0.0000],\n",
              "                                              [0.3821, 0.3422, 0.3868,  ..., 0.0000, 0.0000, 0.0000],\n",
              "                                              ...,\n",
              "                                              [0.2714, 0.3274, 0.2686,  ..., 0.0000, 0.0000, 0.0000],\n",
              "                                              [0.2697, 0.3389, 0.2667,  ..., 0.0000, 0.0000, 0.0000],\n",
              "                                              [0.2637, 0.2843, 0.3469,  ..., 0.0000, 0.0000, 0.0000]],\n",
              "                                    \n",
              "                                             [[1.1111, 0.0000, 0.0000,  ..., 0.0000, 0.0000, 0.0000],\n",
              "                                              [0.6019, 0.5092, 0.0000,  ..., 0.0000, 0.0000, 0.0000],\n",
              "                                              [0.3150, 0.3741, 0.4221,  ..., 0.0000, 0.0000, 0.0000],\n",
              "                                              ...,\n",
              "                                              [0.2063, 0.3129, 0.3173,  ..., 0.0000, 0.0000, 0.0000],\n",
              "                                              [0.2487, 0.3443, 0.2905,  ..., 0.0000, 0.0000, 0.0000],\n",
              "                                              [0.1981, 0.4052, 0.2571,  ..., 0.0000, 0.0000, 0.0000]],\n",
              "                                    \n",
              "                                             [[1.1111, 0.0000, 0.0000,  ..., 0.0000, 0.0000, 0.0000],\n",
              "                                              [0.5251, 0.5860, 0.0000,  ..., 0.0000, 0.0000, 0.0000],\n",
              "                                              [0.4288, 0.3937, 0.0000,  ..., 0.0000, 0.0000, 0.0000],\n",
              "                                              ...,\n",
              "                                              [0.2697, 0.1875, 0.3341,  ..., 0.0000, 0.0000, 0.0000],\n",
              "                                              [0.2801, 0.2638, 0.3125,  ..., 0.0000, 0.0000, 0.0000],\n",
              "                                              [0.2796, 0.2055, 0.2925,  ..., 0.0000, 0.0000, 0.0000]],\n",
              "                                    \n",
              "                                             ...,\n",
              "                                    \n",
              "                                             [[1.1111, 0.0000, 0.0000,  ..., 0.0000, 0.0000, 0.0000],\n",
              "                                              [0.4143, 0.6969, 0.0000,  ..., 0.0000, 0.0000, 0.0000],\n",
              "                                              [0.3759, 0.4309, 0.3044,  ..., 0.0000, 0.0000, 0.0000],\n",
              "                                              ...,\n",
              "                                              [0.3260, 0.0000, 0.2865,  ..., 0.0000, 0.0000, 0.0000],\n",
              "                                              [0.3671, 0.4070, 0.2219,  ..., 0.0000, 0.0000, 0.0000],\n",
              "                                              [0.3532, 0.0000, 0.2624,  ..., 0.0000, 0.0000, 0.0000]],\n",
              "                                    \n",
              "                                             [[1.1111, 0.0000, 0.0000,  ..., 0.0000, 0.0000, 0.0000],\n",
              "                                              [0.4900, 0.6212, 0.0000,  ..., 0.0000, 0.0000, 0.0000],\n",
              "                                              [0.0000, 0.3523, 0.3847,  ..., 0.0000, 0.0000, 0.0000],\n",
              "                                              ...,\n",
              "                                              [0.3287, 0.3219, 0.2475,  ..., 0.0000, 0.0000, 0.0000],\n",
              "                                              [0.2533, 0.2674, 0.3242,  ..., 0.0000, 0.0000, 0.0000],\n",
              "                                              [0.2847, 0.2492, 0.3225,  ..., 0.0000, 0.0000, 0.0000]],\n",
              "                                    \n",
              "                                             [[0.0000, 0.0000, 0.0000,  ..., 0.0000, 0.0000, 0.0000],\n",
              "                                              [0.6085, 0.5026, 0.0000,  ..., 0.0000, 0.0000, 0.0000],\n",
              "                                              [0.4748, 0.3266, 0.3097,  ..., 0.0000, 0.0000, 0.0000],\n",
              "                                              ...,\n",
              "                                              [0.2778, 0.2991, 0.2658,  ..., 0.0000, 0.0000, 0.0000],\n",
              "                                              [0.2581, 0.3062, 0.2726,  ..., 0.0000, 0.0000, 0.0000],\n",
              "                                              [0.2533, 0.3377, 0.2547,  ..., 0.0000, 0.0000, 0.0000]]]],\n",
              "                                           grad_fn=<MulBackward0>),\n",
              "                                    tensor([[[[1.1111, 0.0000, 0.0000,  ..., 0.0000, 0.0000, 0.0000],\n",
              "                                              [0.6579, 0.4532, 0.0000,  ..., 0.0000, 0.0000, 0.0000],\n",
              "                                              [0.3828, 0.3333, 0.3950,  ..., 0.0000, 0.0000, 0.0000],\n",
              "                                              ...,\n",
              "                                              [0.2548, 0.3191, 0.3188,  ..., 0.0000, 0.0000, 0.0000],\n",
              "                                              [0.2906, 0.2923, 0.3300,  ..., 0.0000, 0.0000, 0.0000],\n",
              "                                              [0.2777, 0.2473, 0.3392,  ..., 0.0000, 0.0000, 0.0000]],\n",
              "                                    \n",
              "                                             [[1.1111, 0.0000, 0.0000,  ..., 0.0000, 0.0000, 0.0000],\n",
              "                                              [0.6092, 0.5019, 0.0000,  ..., 0.0000, 0.0000, 0.0000],\n",
              "                                              [0.4185, 0.0000, 0.0000,  ..., 0.0000, 0.0000, 0.0000],\n",
              "                                              ...,\n",
              "                                              [0.2330, 0.2496, 0.3079,  ..., 0.0000, 0.0000, 0.0000],\n",
              "                                              [0.3435, 0.0000, 0.2195,  ..., 0.0000, 0.0000, 0.0000],\n",
              "                                              [0.2617, 0.0000, 0.2995,  ..., 0.0000, 0.0000, 0.0000]],\n",
              "                                    \n",
              "                                             [[1.1111, 0.0000, 0.0000,  ..., 0.0000, 0.0000, 0.0000],\n",
              "                                              [0.5283, 0.5828, 0.0000,  ..., 0.0000, 0.0000, 0.0000],\n",
              "                                              [0.4264, 0.3615, 0.3232,  ..., 0.0000, 0.0000, 0.0000],\n",
              "                                              ...,\n",
              "                                              [0.1771, 0.0000, 0.2584,  ..., 0.0000, 0.0000, 0.0000],\n",
              "                                              [0.2250, 0.2240, 0.2709,  ..., 0.0000, 0.0000, 0.0000],\n",
              "                                              [0.1984, 0.0000, 0.2485,  ..., 0.0000, 0.0000, 0.0000]],\n",
              "                                    \n",
              "                                             ...,\n",
              "                                    \n",
              "                                             [[1.1111, 0.0000, 0.0000,  ..., 0.0000, 0.0000, 0.0000],\n",
              "                                              [0.6322, 0.4790, 0.0000,  ..., 0.0000, 0.0000, 0.0000],\n",
              "                                              [0.3796, 0.2747, 0.4568,  ..., 0.0000, 0.0000, 0.0000],\n",
              "                                              ...,\n",
              "                                              [0.3094, 0.2106, 0.3298,  ..., 0.0000, 0.0000, 0.0000],\n",
              "                                              [0.3693, 0.2324, 0.2979,  ..., 0.0000, 0.0000, 0.0000],\n",
              "                                              [0.3117, 0.1898, 0.3457,  ..., 0.0000, 0.0000, 0.0000]],\n",
              "                                    \n",
              "                                             [[0.0000, 0.0000, 0.0000,  ..., 0.0000, 0.0000, 0.0000],\n",
              "                                              [0.0000, 0.6602, 0.0000,  ..., 0.0000, 0.0000, 0.0000],\n",
              "                                              [0.3580, 0.4384, 0.3148,  ..., 0.0000, 0.0000, 0.0000],\n",
              "                                              ...,\n",
              "                                              [0.2383, 0.3250, 0.3106,  ..., 0.0000, 0.0000, 0.0000],\n",
              "                                              [0.0000, 0.3265, 0.3666,  ..., 0.0000, 0.0000, 0.0000],\n",
              "                                              [0.1911, 0.3336, 0.3653,  ..., 0.0000, 0.0000, 0.0000]],\n",
              "                                    \n",
              "                                             [[0.0000, 0.0000, 0.0000,  ..., 0.0000, 0.0000, 0.0000],\n",
              "                                              [0.5957, 0.5154, 0.0000,  ..., 0.0000, 0.0000, 0.0000],\n",
              "                                              [0.4159, 0.0000, 0.3658,  ..., 0.0000, 0.0000, 0.0000],\n",
              "                                              ...,\n",
              "                                              [0.2621, 0.0000, 0.3596,  ..., 0.0000, 0.0000, 0.0000],\n",
              "                                              [0.2485, 0.2774, 0.3414,  ..., 0.0000, 0.0000, 0.0000],\n",
              "                                              [0.2462, 0.0000, 0.3660,  ..., 0.0000, 0.0000, 0.0000]]]],\n",
              "                                           grad_fn=<MulBackward0>),\n",
              "                                    tensor([[[[1.1111, 0.0000, 0.0000,  ..., 0.0000, 0.0000, 0.0000],\n",
              "                                              [0.6080, 0.5031, 0.0000,  ..., 0.0000, 0.0000, 0.0000],\n",
              "                                              [0.3352, 0.2666, 0.5093,  ..., 0.0000, 0.0000, 0.0000],\n",
              "                                              ...,\n",
              "                                              [0.0000, 0.2080, 0.3690,  ..., 0.0000, 0.0000, 0.0000],\n",
              "                                              [0.3108, 0.2290, 0.3710,  ..., 0.0000, 0.0000, 0.0000],\n",
              "                                              [0.3759, 0.1944, 0.2632,  ..., 0.0000, 0.0000, 0.0000]],\n",
              "                                    \n",
              "                                             [[1.1111, 0.0000, 0.0000,  ..., 0.0000, 0.0000, 0.0000],\n",
              "                                              [0.5611, 0.5500, 0.0000,  ..., 0.0000, 0.0000, 0.0000],\n",
              "                                              [0.3118, 0.3963, 0.4030,  ..., 0.0000, 0.0000, 0.0000],\n",
              "                                              ...,\n",
              "                                              [0.2791, 0.0000, 0.3048,  ..., 0.0000, 0.0000, 0.0000],\n",
              "                                              [0.2898, 0.2620, 0.2908,  ..., 0.0000, 0.0000, 0.0000],\n",
              "                                              [0.2667, 0.2741, 0.2857,  ..., 0.0000, 0.0000, 0.0000]],\n",
              "                                    \n",
              "                                             [[1.1111, 0.0000, 0.0000,  ..., 0.0000, 0.0000, 0.0000],\n",
              "                                              [0.3900, 0.7211, 0.0000,  ..., 0.0000, 0.0000, 0.0000],\n",
              "                                              [0.3023, 0.4240, 0.3849,  ..., 0.0000, 0.0000, 0.0000],\n",
              "                                              ...,\n",
              "                                              [0.2988, 0.3134, 0.2260,  ..., 0.0000, 0.0000, 0.0000],\n",
              "                                              [0.2308, 0.3081, 0.2602,  ..., 0.0000, 0.0000, 0.0000],\n",
              "                                              [0.2237, 0.3035, 0.2601,  ..., 0.0000, 0.0000, 0.0000]],\n",
              "                                    \n",
              "                                             ...,\n",
              "                                    \n",
              "                                             [[1.1111, 0.0000, 0.0000,  ..., 0.0000, 0.0000, 0.0000],\n",
              "                                              [0.3468, 0.7643, 0.0000,  ..., 0.0000, 0.0000, 0.0000],\n",
              "                                              [0.2966, 0.4753, 0.3392,  ..., 0.0000, 0.0000, 0.0000],\n",
              "                                              ...,\n",
              "                                              [0.1661, 0.0000, 0.2395,  ..., 0.0000, 0.0000, 0.0000],\n",
              "                                              [0.2368, 0.3672, 0.2646,  ..., 0.0000, 0.0000, 0.0000],\n",
              "                                              [0.2237, 0.3412, 0.2463,  ..., 0.0000, 0.0000, 0.0000]],\n",
              "                                    \n",
              "                                             [[0.0000, 0.0000, 0.0000,  ..., 0.0000, 0.0000, 0.0000],\n",
              "                                              [0.6799, 0.4312, 0.0000,  ..., 0.0000, 0.0000, 0.0000],\n",
              "                                              [0.4038, 0.3621, 0.3452,  ..., 0.0000, 0.0000, 0.0000],\n",
              "                                              ...,\n",
              "                                              [0.2730, 0.3051, 0.2594,  ..., 0.0000, 0.0000, 0.0000],\n",
              "                                              [0.0000, 0.2532, 0.2045,  ..., 0.0000, 0.0000, 0.0000],\n",
              "                                              [0.0000, 0.2985, 0.2637,  ..., 0.0000, 0.0000, 0.0000]],\n",
              "                                    \n",
              "                                             [[1.1111, 0.0000, 0.0000,  ..., 0.0000, 0.0000, 0.0000],\n",
              "                                              [0.6609, 0.4502, 0.0000,  ..., 0.0000, 0.0000, 0.0000],\n",
              "                                              [0.3999, 0.4106, 0.3007,  ..., 0.0000, 0.0000, 0.0000],\n",
              "                                              ...,\n",
              "                                              [0.3799, 0.2516, 0.2232,  ..., 0.0000, 0.0000, 0.0000],\n",
              "                                              [0.3663, 0.0000, 0.2530,  ..., 0.0000, 0.0000, 0.0000],\n",
              "                                              [0.3468, 0.2901, 0.2558,  ..., 0.0000, 0.0000, 0.0000]]]],\n",
              "                                           grad_fn=<MulBackward0>),\n",
              "                                    tensor([[[[1.1111, 0.0000, 0.0000,  ..., 0.0000, 0.0000, 0.0000],\n",
              "                                              [0.6512, 0.4599, 0.0000,  ..., 0.0000, 0.0000, 0.0000],\n",
              "                                              [0.4320, 0.3327, 0.3464,  ..., 0.0000, 0.0000, 0.0000],\n",
              "                                              ...,\n",
              "                                              [0.2674, 0.0000, 0.2481,  ..., 0.0000, 0.0000, 0.0000],\n",
              "                                              [0.2932, 0.2264, 0.0000,  ..., 0.0000, 0.0000, 0.0000],\n",
              "                                              [0.3368, 0.0000, 0.2766,  ..., 0.0000, 0.0000, 0.0000]],\n",
              "                                    \n",
              "                                             [[0.0000, 0.0000, 0.0000,  ..., 0.0000, 0.0000, 0.0000],\n",
              "                                              [0.5827, 0.5285, 0.0000,  ..., 0.0000, 0.0000, 0.0000],\n",
              "                                              [0.4247, 0.3924, 0.0000,  ..., 0.0000, 0.0000, 0.0000],\n",
              "                                              ...,\n",
              "                                              [0.3045, 0.3126, 0.2966,  ..., 0.0000, 0.0000, 0.0000],\n",
              "                                              [0.3032, 0.3604, 0.2289,  ..., 0.0000, 0.0000, 0.0000],\n",
              "                                              [0.0000, 0.3181, 0.2040,  ..., 0.0000, 0.0000, 0.0000]],\n",
              "                                    \n",
              "                                             [[1.1111, 0.0000, 0.0000,  ..., 0.0000, 0.0000, 0.0000],\n",
              "                                              [0.4994, 0.6117, 0.0000,  ..., 0.0000, 0.0000, 0.0000],\n",
              "                                              [0.3906, 0.4318, 0.0000,  ..., 0.0000, 0.0000, 0.0000],\n",
              "                                              ...,\n",
              "                                              [0.2608, 0.3929, 0.2450,  ..., 0.0000, 0.0000, 0.0000],\n",
              "                                              [0.0000, 0.3557, 0.2218,  ..., 0.0000, 0.0000, 0.0000],\n",
              "                                              [0.2776, 0.3980, 0.2660,  ..., 0.0000, 0.0000, 0.0000]],\n",
              "                                    \n",
              "                                             ...,\n",
              "                                    \n",
              "                                             [[1.1111, 0.0000, 0.0000,  ..., 0.0000, 0.0000, 0.0000],\n",
              "                                              [0.5117, 0.5995, 0.0000,  ..., 0.0000, 0.0000, 0.0000],\n",
              "                                              [0.3553, 0.4081, 0.3477,  ..., 0.0000, 0.0000, 0.0000],\n",
              "                                              ...,\n",
              "                                              [0.2946, 0.2759, 0.2869,  ..., 0.0000, 0.0000, 0.0000],\n",
              "                                              [0.2792, 0.2513, 0.2509,  ..., 0.0000, 0.0000, 0.0000],\n",
              "                                              [0.2592, 0.2646, 0.3156,  ..., 0.0000, 0.0000, 0.0000]],\n",
              "                                    \n",
              "                                             [[1.1111, 0.0000, 0.0000,  ..., 0.0000, 0.0000, 0.0000],\n",
              "                                              [0.6487, 0.4624, 0.0000,  ..., 0.0000, 0.0000, 0.0000],\n",
              "                                              [0.2986, 0.4065, 0.4060,  ..., 0.0000, 0.0000, 0.0000],\n",
              "                                              ...,\n",
              "                                              [0.0000, 0.3135, 0.3084,  ..., 0.0000, 0.0000, 0.0000],\n",
              "                                              [0.2121, 0.2349, 0.3658,  ..., 0.0000, 0.0000, 0.0000],\n",
              "                                              [0.2685, 0.2283, 0.3691,  ..., 0.0000, 0.0000, 0.0000]],\n",
              "                                    \n",
              "                                             [[0.0000, 0.0000, 0.0000,  ..., 0.0000, 0.0000, 0.0000],\n",
              "                                              [0.6496, 0.4615, 0.0000,  ..., 0.0000, 0.0000, 0.0000],\n",
              "                                              [0.4796, 0.3213, 0.0000,  ..., 0.0000, 0.0000, 0.0000],\n",
              "                                              ...,\n",
              "                                              [0.2897, 0.1909, 0.4012,  ..., 0.0000, 0.0000, 0.0000],\n",
              "                                              [0.2526, 0.2170, 0.3720,  ..., 0.0000, 0.0000, 0.0000],\n",
              "                                              [0.2560, 0.2763, 0.3628,  ..., 0.0000, 0.0000, 0.0000]]]],\n",
              "                                           grad_fn=<MulBackward0>),\n",
              "                                    tensor([[[[0.0000, 0.0000, 0.0000,  ..., 0.0000, 0.0000, 0.0000],\n",
              "                                              [0.5292, 0.5819, 0.0000,  ..., 0.0000, 0.0000, 0.0000],\n",
              "                                              [0.3600, 0.4262, 0.3250,  ..., 0.0000, 0.0000, 0.0000],\n",
              "                                              ...,\n",
              "                                              [0.2999, 0.3063, 0.2267,  ..., 0.0000, 0.0000, 0.0000],\n",
              "                                              [0.0000, 0.3506, 0.2076,  ..., 0.0000, 0.0000, 0.0000],\n",
              "                                              [0.3552, 0.2602, 0.2585,  ..., 0.0000, 0.0000, 0.0000]],\n",
              "                                    \n",
              "                                             [[1.1111, 0.0000, 0.0000,  ..., 0.0000, 0.0000, 0.0000],\n",
              "                                              [0.7540, 0.3571, 0.0000,  ..., 0.0000, 0.0000, 0.0000],\n",
              "                                              [0.3906, 0.3236, 0.3970,  ..., 0.0000, 0.0000, 0.0000],\n",
              "                                              ...,\n",
              "                                              [0.4056, 0.0000, 0.2611,  ..., 0.0000, 0.0000, 0.0000],\n",
              "                                              [0.3077, 0.1905, 0.2856,  ..., 0.0000, 0.0000, 0.0000],\n",
              "                                              [0.2860, 0.2610, 0.3472,  ..., 0.0000, 0.0000, 0.0000]],\n",
              "                                    \n",
              "                                             [[1.1111, 0.0000, 0.0000,  ..., 0.0000, 0.0000, 0.0000],\n",
              "                                              [0.5678, 0.0000, 0.0000,  ..., 0.0000, 0.0000, 0.0000],\n",
              "                                              [0.0000, 0.3861, 0.3544,  ..., 0.0000, 0.0000, 0.0000],\n",
              "                                              ...,\n",
              "                                              [0.2547, 0.3294, 0.2565,  ..., 0.0000, 0.0000, 0.0000],\n",
              "                                              [0.2405, 0.2901, 0.2749,  ..., 0.0000, 0.0000, 0.0000],\n",
              "                                              [0.2181, 0.3413, 0.2962,  ..., 0.0000, 0.0000, 0.0000]],\n",
              "                                    \n",
              "                                             ...,\n",
              "                                    \n",
              "                                             [[1.1111, 0.0000, 0.0000,  ..., 0.0000, 0.0000, 0.0000],\n",
              "                                              [0.5948, 0.5163, 0.0000,  ..., 0.0000, 0.0000, 0.0000],\n",
              "                                              [0.3217, 0.5083, 0.2811,  ..., 0.0000, 0.0000, 0.0000],\n",
              "                                              ...,\n",
              "                                              [0.3503, 0.2314, 0.2362,  ..., 0.0000, 0.0000, 0.0000],\n",
              "                                              [0.2746, 0.3089, 0.2761,  ..., 0.0000, 0.0000, 0.0000],\n",
              "                                              [0.2578, 0.3243, 0.1975,  ..., 0.0000, 0.0000, 0.0000]],\n",
              "                                    \n",
              "                                             [[1.1111, 0.0000, 0.0000,  ..., 0.0000, 0.0000, 0.0000],\n",
              "                                              [0.4338, 0.6773, 0.0000,  ..., 0.0000, 0.0000, 0.0000],\n",
              "                                              [0.3532, 0.3980, 0.3599,  ..., 0.0000, 0.0000, 0.0000],\n",
              "                                              ...,\n",
              "                                              [0.2824, 0.2980, 0.2410,  ..., 0.0000, 0.0000, 0.0000],\n",
              "                                              [0.3212, 0.2950, 0.2209,  ..., 0.0000, 0.0000, 0.0000],\n",
              "                                              [0.2765, 0.3309, 0.2682,  ..., 0.0000, 0.0000, 0.0000]],\n",
              "                                    \n",
              "                                             [[1.1111, 0.0000, 0.0000,  ..., 0.0000, 0.0000, 0.0000],\n",
              "                                              [0.0000, 0.5683, 0.0000,  ..., 0.0000, 0.0000, 0.0000],\n",
              "                                              [0.5009, 0.3009, 0.3093,  ..., 0.0000, 0.0000, 0.0000],\n",
              "                                              ...,\n",
              "                                              [0.3968, 0.2964, 0.2321,  ..., 0.0000, 0.0000, 0.0000],\n",
              "                                              [0.3021, 0.3191, 0.2095,  ..., 0.0000, 0.0000, 0.0000],\n",
              "                                              [0.3357, 0.2862, 0.2922,  ..., 0.0000, 0.0000, 0.0000]]]],\n",
              "                                           grad_fn=<MulBackward0>)))])"
            ]
          },
          "metadata": {},
          "execution_count": 26
        }
      ]
    },
    {
      "cell_type": "code",
      "execution_count": 27,
      "metadata": {
        "colab": {
          "base_uri": "https://localhost:8080/",
          "height": 434,
          "referenced_widgets": [
            "00f09f4a0d744b02b5750e38960e5ac4",
            "924a786e3459470280fd529809552b08",
            "22adc710be3c4f8585699b3f1e6d9020",
            "6c0c600fe7404279a056835e83520c9b",
            "e4ec05fe0dcf4a44a883804c40d73b9a",
            "1f8c504cb2b14022ae341545c51118dc",
            "aa521360982b45f6b992aeb9e823b37f",
            "733c099e3ea1487abe7d11c0a3f850c1",
            "68ec3a61a9184e0fb578417455910d44",
            "45369d98e21a4c448c29ca1060356649",
            "d26c977db9514ec3bd1e1b94a8ee9fbd"
          ]
        },
        "id": "Hani5J5hov65",
        "outputId": "1d9ec5ed-3d06-463b-801d-a2753c4aa229"
      },
      "outputs": [
        {
          "output_type": "display_data",
          "data": {
            "text/plain": [
              "  0%|          | 0/250 [00:00<?, ?it/s]"
            ],
            "application/vnd.jupyter.widget-view+json": {
              "version_major": 2,
              "version_minor": 0,
              "model_id": "00f09f4a0d744b02b5750e38960e5ac4"
            }
          },
          "metadata": {}
        },
        {
          "output_type": "error",
          "ename": "KeyboardInterrupt",
          "evalue": "ignored",
          "traceback": [
            "\u001b[0;31m---------------------------------------------------------------------------\u001b[0m",
            "\u001b[0;31mKeyboardInterrupt\u001b[0m                         Traceback (most recent call last)",
            "\u001b[0;32m<ipython-input-27-08a213615190>\u001b[0m in \u001b[0;36m<module>\u001b[0;34m()\u001b[0m\n\u001b[1;32m      8\u001b[0m     \u001b[0;32mfor\u001b[0m \u001b[0mbatch\u001b[0m \u001b[0;32min\u001b[0m \u001b[0mtqdm\u001b[0m\u001b[0;34m(\u001b[0m\u001b[0mtrain_loader\u001b[0m\u001b[0;34m)\u001b[0m\u001b[0;34m:\u001b[0m\u001b[0;34m\u001b[0m\u001b[0;34m\u001b[0m\u001b[0m\n\u001b[1;32m      9\u001b[0m         \u001b[0moptimizer\u001b[0m\u001b[0;34m.\u001b[0m\u001b[0mzero_grad\u001b[0m\u001b[0;34m(\u001b[0m\u001b[0;34m)\u001b[0m\u001b[0;34m\u001b[0m\u001b[0;34m\u001b[0m\u001b[0m\n\u001b[0;32m---> 10\u001b[0;31m         \u001b[0moutput\u001b[0m \u001b[0;34m=\u001b[0m \u001b[0mmodel_0\u001b[0m\u001b[0;34m(\u001b[0m\u001b[0mbatch\u001b[0m\u001b[0;34m[\u001b[0m\u001b[0;34m\"input_ids\"\u001b[0m\u001b[0;34m]\u001b[0m\u001b[0;34m.\u001b[0m\u001b[0mto\u001b[0m\u001b[0;34m(\u001b[0m\u001b[0mdevice\u001b[0m\u001b[0;34m)\u001b[0m\u001b[0;34m,\u001b[0m \u001b[0mattention_mask\u001b[0m\u001b[0;34m=\u001b[0m\u001b[0mbatch\u001b[0m\u001b[0;34m[\u001b[0m\u001b[0;34m\"mask\"\u001b[0m\u001b[0;34m]\u001b[0m\u001b[0;34m.\u001b[0m\u001b[0mto\u001b[0m\u001b[0;34m(\u001b[0m\u001b[0mdevice\u001b[0m\u001b[0;34m)\u001b[0m\u001b[0;34m)\u001b[0m\u001b[0;34m\u001b[0m\u001b[0;34m\u001b[0m\u001b[0m\n\u001b[0m\u001b[1;32m     11\u001b[0m         \u001b[0mloss\u001b[0m \u001b[0;34m=\u001b[0m \u001b[0mcriterion\u001b[0m\u001b[0;34m(\u001b[0m\u001b[0moutput\u001b[0m\u001b[0;34m[\u001b[0m\u001b[0;34m\"logits\"\u001b[0m\u001b[0;34m]\u001b[0m\u001b[0;34m,\u001b[0m \u001b[0mbatch\u001b[0m\u001b[0;34m[\u001b[0m\u001b[0;34m\"target\"\u001b[0m\u001b[0;34m]\u001b[0m\u001b[0;34m.\u001b[0m\u001b[0mto\u001b[0m\u001b[0;34m(\u001b[0m\u001b[0mdevice\u001b[0m\u001b[0;34m)\u001b[0m\u001b[0;34m)\u001b[0m\u001b[0;34m\u001b[0m\u001b[0;34m\u001b[0m\u001b[0m\n\u001b[1;32m     12\u001b[0m         \u001b[0mtrain_loss\u001b[0m \u001b[0;34m+=\u001b[0m \u001b[0mloss\u001b[0m\u001b[0;34m.\u001b[0m\u001b[0mitem\u001b[0m\u001b[0;34m(\u001b[0m\u001b[0;34m)\u001b[0m\u001b[0;34m\u001b[0m\u001b[0;34m\u001b[0m\u001b[0m\n",
            "\u001b[0;32m/usr/local/lib/python3.7/dist-packages/torch/nn/modules/module.py\u001b[0m in \u001b[0;36m_call_impl\u001b[0;34m(self, *input, **kwargs)\u001b[0m\n\u001b[1;32m   1108\u001b[0m         if not (self._backward_hooks or self._forward_hooks or self._forward_pre_hooks or _global_backward_hooks\n\u001b[1;32m   1109\u001b[0m                 or _global_forward_hooks or _global_forward_pre_hooks):\n\u001b[0;32m-> 1110\u001b[0;31m             \u001b[0;32mreturn\u001b[0m \u001b[0mforward_call\u001b[0m\u001b[0;34m(\u001b[0m\u001b[0;34m*\u001b[0m\u001b[0minput\u001b[0m\u001b[0;34m,\u001b[0m \u001b[0;34m**\u001b[0m\u001b[0mkwargs\u001b[0m\u001b[0;34m)\u001b[0m\u001b[0;34m\u001b[0m\u001b[0;34m\u001b[0m\u001b[0m\n\u001b[0m\u001b[1;32m   1111\u001b[0m         \u001b[0;31m# Do not call functions when jit is used\u001b[0m\u001b[0;34m\u001b[0m\u001b[0;34m\u001b[0m\u001b[0;34m\u001b[0m\u001b[0m\n\u001b[1;32m   1112\u001b[0m         \u001b[0mfull_backward_hooks\u001b[0m\u001b[0;34m,\u001b[0m \u001b[0mnon_full_backward_hooks\u001b[0m \u001b[0;34m=\u001b[0m \u001b[0;34m[\u001b[0m\u001b[0;34m]\u001b[0m\u001b[0;34m,\u001b[0m \u001b[0;34m[\u001b[0m\u001b[0;34m]\u001b[0m\u001b[0;34m\u001b[0m\u001b[0;34m\u001b[0m\u001b[0m\n",
            "\u001b[0;32m/usr/local/lib/python3.7/dist-packages/transformers/models/gpt2/modeling_gpt2.py\u001b[0m in \u001b[0;36mforward\u001b[0;34m(self, input_ids, past_key_values, attention_mask, token_type_ids, position_ids, head_mask, inputs_embeds, labels, use_cache, output_attentions, output_hidden_states, return_dict)\u001b[0m\n\u001b[1;32m   1387\u001b[0m             \u001b[0moutput_attentions\u001b[0m\u001b[0;34m=\u001b[0m\u001b[0moutput_attentions\u001b[0m\u001b[0;34m,\u001b[0m\u001b[0;34m\u001b[0m\u001b[0;34m\u001b[0m\u001b[0m\n\u001b[1;32m   1388\u001b[0m             \u001b[0moutput_hidden_states\u001b[0m\u001b[0;34m=\u001b[0m\u001b[0moutput_hidden_states\u001b[0m\u001b[0;34m,\u001b[0m\u001b[0;34m\u001b[0m\u001b[0;34m\u001b[0m\u001b[0m\n\u001b[0;32m-> 1389\u001b[0;31m             \u001b[0mreturn_dict\u001b[0m\u001b[0;34m=\u001b[0m\u001b[0mreturn_dict\u001b[0m\u001b[0;34m,\u001b[0m\u001b[0;34m\u001b[0m\u001b[0;34m\u001b[0m\u001b[0m\n\u001b[0m\u001b[1;32m   1390\u001b[0m         )\n\u001b[1;32m   1391\u001b[0m         \u001b[0mhidden_states\u001b[0m \u001b[0;34m=\u001b[0m \u001b[0mtransformer_outputs\u001b[0m\u001b[0;34m[\u001b[0m\u001b[0;36m0\u001b[0m\u001b[0;34m]\u001b[0m\u001b[0;34m\u001b[0m\u001b[0;34m\u001b[0m\u001b[0m\n",
            "\u001b[0;32m/usr/local/lib/python3.7/dist-packages/torch/nn/modules/module.py\u001b[0m in \u001b[0;36m_call_impl\u001b[0;34m(self, *input, **kwargs)\u001b[0m\n\u001b[1;32m   1108\u001b[0m         if not (self._backward_hooks or self._forward_hooks or self._forward_pre_hooks or _global_backward_hooks\n\u001b[1;32m   1109\u001b[0m                 or _global_forward_hooks or _global_forward_pre_hooks):\n\u001b[0;32m-> 1110\u001b[0;31m             \u001b[0;32mreturn\u001b[0m \u001b[0mforward_call\u001b[0m\u001b[0;34m(\u001b[0m\u001b[0;34m*\u001b[0m\u001b[0minput\u001b[0m\u001b[0;34m,\u001b[0m \u001b[0;34m**\u001b[0m\u001b[0mkwargs\u001b[0m\u001b[0;34m)\u001b[0m\u001b[0;34m\u001b[0m\u001b[0;34m\u001b[0m\u001b[0m\n\u001b[0m\u001b[1;32m   1111\u001b[0m         \u001b[0;31m# Do not call functions when jit is used\u001b[0m\u001b[0;34m\u001b[0m\u001b[0;34m\u001b[0m\u001b[0;34m\u001b[0m\u001b[0m\n\u001b[1;32m   1112\u001b[0m         \u001b[0mfull_backward_hooks\u001b[0m\u001b[0;34m,\u001b[0m \u001b[0mnon_full_backward_hooks\u001b[0m \u001b[0;34m=\u001b[0m \u001b[0;34m[\u001b[0m\u001b[0;34m]\u001b[0m\u001b[0;34m,\u001b[0m \u001b[0;34m[\u001b[0m\u001b[0;34m]\u001b[0m\u001b[0;34m\u001b[0m\u001b[0;34m\u001b[0m\u001b[0m\n",
            "\u001b[0;32m/usr/local/lib/python3.7/dist-packages/transformers/models/gpt2/modeling_gpt2.py\u001b[0m in \u001b[0;36mforward\u001b[0;34m(self, input_ids, past_key_values, attention_mask, token_type_ids, position_ids, head_mask, inputs_embeds, encoder_hidden_states, encoder_attention_mask, use_cache, output_attentions, output_hidden_states, return_dict)\u001b[0m\n\u001b[1;32m    897\u001b[0m                     \u001b[0mencoder_attention_mask\u001b[0m\u001b[0;34m=\u001b[0m\u001b[0mencoder_attention_mask\u001b[0m\u001b[0;34m,\u001b[0m\u001b[0;34m\u001b[0m\u001b[0;34m\u001b[0m\u001b[0m\n\u001b[1;32m    898\u001b[0m                     \u001b[0muse_cache\u001b[0m\u001b[0;34m=\u001b[0m\u001b[0muse_cache\u001b[0m\u001b[0;34m,\u001b[0m\u001b[0;34m\u001b[0m\u001b[0;34m\u001b[0m\u001b[0m\n\u001b[0;32m--> 899\u001b[0;31m                     \u001b[0moutput_attentions\u001b[0m\u001b[0;34m=\u001b[0m\u001b[0moutput_attentions\u001b[0m\u001b[0;34m,\u001b[0m\u001b[0;34m\u001b[0m\u001b[0;34m\u001b[0m\u001b[0m\n\u001b[0m\u001b[1;32m    900\u001b[0m                 )\n\u001b[1;32m    901\u001b[0m \u001b[0;34m\u001b[0m\u001b[0m\n",
            "\u001b[0;32m/usr/local/lib/python3.7/dist-packages/torch/nn/modules/module.py\u001b[0m in \u001b[0;36m_call_impl\u001b[0;34m(self, *input, **kwargs)\u001b[0m\n\u001b[1;32m   1108\u001b[0m         if not (self._backward_hooks or self._forward_hooks or self._forward_pre_hooks or _global_backward_hooks\n\u001b[1;32m   1109\u001b[0m                 or _global_forward_hooks or _global_forward_pre_hooks):\n\u001b[0;32m-> 1110\u001b[0;31m             \u001b[0;32mreturn\u001b[0m \u001b[0mforward_call\u001b[0m\u001b[0;34m(\u001b[0m\u001b[0;34m*\u001b[0m\u001b[0minput\u001b[0m\u001b[0;34m,\u001b[0m \u001b[0;34m**\u001b[0m\u001b[0mkwargs\u001b[0m\u001b[0;34m)\u001b[0m\u001b[0;34m\u001b[0m\u001b[0;34m\u001b[0m\u001b[0m\n\u001b[0m\u001b[1;32m   1111\u001b[0m         \u001b[0;31m# Do not call functions when jit is used\u001b[0m\u001b[0;34m\u001b[0m\u001b[0;34m\u001b[0m\u001b[0;34m\u001b[0m\u001b[0m\n\u001b[1;32m   1112\u001b[0m         \u001b[0mfull_backward_hooks\u001b[0m\u001b[0;34m,\u001b[0m \u001b[0mnon_full_backward_hooks\u001b[0m \u001b[0;34m=\u001b[0m \u001b[0;34m[\u001b[0m\u001b[0;34m]\u001b[0m\u001b[0;34m,\u001b[0m \u001b[0;34m[\u001b[0m\u001b[0;34m]\u001b[0m\u001b[0;34m\u001b[0m\u001b[0;34m\u001b[0m\u001b[0m\n",
            "\u001b[0;32m/usr/local/lib/python3.7/dist-packages/transformers/models/gpt2/modeling_gpt2.py\u001b[0m in \u001b[0;36mforward\u001b[0;34m(self, hidden_states, layer_past, attention_mask, head_mask, encoder_hidden_states, encoder_attention_mask, use_cache, output_attentions)\u001b[0m\n\u001b[1;32m    395\u001b[0m             \u001b[0mhead_mask\u001b[0m\u001b[0;34m=\u001b[0m\u001b[0mhead_mask\u001b[0m\u001b[0;34m,\u001b[0m\u001b[0;34m\u001b[0m\u001b[0;34m\u001b[0m\u001b[0m\n\u001b[1;32m    396\u001b[0m             \u001b[0muse_cache\u001b[0m\u001b[0;34m=\u001b[0m\u001b[0muse_cache\u001b[0m\u001b[0;34m,\u001b[0m\u001b[0;34m\u001b[0m\u001b[0;34m\u001b[0m\u001b[0m\n\u001b[0;32m--> 397\u001b[0;31m             \u001b[0moutput_attentions\u001b[0m\u001b[0;34m=\u001b[0m\u001b[0moutput_attentions\u001b[0m\u001b[0;34m,\u001b[0m\u001b[0;34m\u001b[0m\u001b[0;34m\u001b[0m\u001b[0m\n\u001b[0m\u001b[1;32m    398\u001b[0m         )\n\u001b[1;32m    399\u001b[0m         \u001b[0mattn_output\u001b[0m \u001b[0;34m=\u001b[0m \u001b[0mattn_outputs\u001b[0m\u001b[0;34m[\u001b[0m\u001b[0;36m0\u001b[0m\u001b[0;34m]\u001b[0m  \u001b[0;31m# output_attn: a, present, (attentions)\u001b[0m\u001b[0;34m\u001b[0m\u001b[0;34m\u001b[0m\u001b[0m\n",
            "\u001b[0;32m/usr/local/lib/python3.7/dist-packages/torch/nn/modules/module.py\u001b[0m in \u001b[0;36m_call_impl\u001b[0;34m(self, *input, **kwargs)\u001b[0m\n\u001b[1;32m   1108\u001b[0m         if not (self._backward_hooks or self._forward_hooks or self._forward_pre_hooks or _global_backward_hooks\n\u001b[1;32m   1109\u001b[0m                 or _global_forward_hooks or _global_forward_pre_hooks):\n\u001b[0;32m-> 1110\u001b[0;31m             \u001b[0;32mreturn\u001b[0m \u001b[0mforward_call\u001b[0m\u001b[0;34m(\u001b[0m\u001b[0;34m*\u001b[0m\u001b[0minput\u001b[0m\u001b[0;34m,\u001b[0m \u001b[0;34m**\u001b[0m\u001b[0mkwargs\u001b[0m\u001b[0;34m)\u001b[0m\u001b[0;34m\u001b[0m\u001b[0;34m\u001b[0m\u001b[0m\n\u001b[0m\u001b[1;32m   1111\u001b[0m         \u001b[0;31m# Do not call functions when jit is used\u001b[0m\u001b[0;34m\u001b[0m\u001b[0;34m\u001b[0m\u001b[0;34m\u001b[0m\u001b[0m\n\u001b[1;32m   1112\u001b[0m         \u001b[0mfull_backward_hooks\u001b[0m\u001b[0;34m,\u001b[0m \u001b[0mnon_full_backward_hooks\u001b[0m \u001b[0;34m=\u001b[0m \u001b[0;34m[\u001b[0m\u001b[0;34m]\u001b[0m\u001b[0;34m,\u001b[0m \u001b[0;34m[\u001b[0m\u001b[0;34m]\u001b[0m\u001b[0;34m\u001b[0m\u001b[0;34m\u001b[0m\u001b[0m\n",
            "\u001b[0;32m/usr/local/lib/python3.7/dist-packages/transformers/models/gpt2/modeling_gpt2.py\u001b[0m in \u001b[0;36mforward\u001b[0;34m(self, hidden_states, layer_past, attention_mask, head_mask, encoder_hidden_states, encoder_attention_mask, use_cache, output_attentions)\u001b[0m\n\u001b[1;32m    333\u001b[0m \u001b[0;34m\u001b[0m\u001b[0m\n\u001b[1;32m    334\u001b[0m         \u001b[0mattn_output\u001b[0m \u001b[0;34m=\u001b[0m \u001b[0mself\u001b[0m\u001b[0;34m.\u001b[0m\u001b[0m_merge_heads\u001b[0m\u001b[0;34m(\u001b[0m\u001b[0mattn_output\u001b[0m\u001b[0;34m,\u001b[0m \u001b[0mself\u001b[0m\u001b[0;34m.\u001b[0m\u001b[0mnum_heads\u001b[0m\u001b[0;34m,\u001b[0m \u001b[0mself\u001b[0m\u001b[0;34m.\u001b[0m\u001b[0mhead_dim\u001b[0m\u001b[0;34m)\u001b[0m\u001b[0;34m\u001b[0m\u001b[0;34m\u001b[0m\u001b[0m\n\u001b[0;32m--> 335\u001b[0;31m         \u001b[0mattn_output\u001b[0m \u001b[0;34m=\u001b[0m \u001b[0mself\u001b[0m\u001b[0;34m.\u001b[0m\u001b[0mc_proj\u001b[0m\u001b[0;34m(\u001b[0m\u001b[0mattn_output\u001b[0m\u001b[0;34m)\u001b[0m\u001b[0;34m\u001b[0m\u001b[0;34m\u001b[0m\u001b[0m\n\u001b[0m\u001b[1;32m    336\u001b[0m         \u001b[0mattn_output\u001b[0m \u001b[0;34m=\u001b[0m \u001b[0mself\u001b[0m\u001b[0;34m.\u001b[0m\u001b[0mresid_dropout\u001b[0m\u001b[0;34m(\u001b[0m\u001b[0mattn_output\u001b[0m\u001b[0;34m)\u001b[0m\u001b[0;34m\u001b[0m\u001b[0;34m\u001b[0m\u001b[0m\n\u001b[1;32m    337\u001b[0m \u001b[0;34m\u001b[0m\u001b[0m\n",
            "\u001b[0;32m/usr/local/lib/python3.7/dist-packages/torch/nn/modules/module.py\u001b[0m in \u001b[0;36m_call_impl\u001b[0;34m(self, *input, **kwargs)\u001b[0m\n\u001b[1;32m   1108\u001b[0m         if not (self._backward_hooks or self._forward_hooks or self._forward_pre_hooks or _global_backward_hooks\n\u001b[1;32m   1109\u001b[0m                 or _global_forward_hooks or _global_forward_pre_hooks):\n\u001b[0;32m-> 1110\u001b[0;31m             \u001b[0;32mreturn\u001b[0m \u001b[0mforward_call\u001b[0m\u001b[0;34m(\u001b[0m\u001b[0;34m*\u001b[0m\u001b[0minput\u001b[0m\u001b[0;34m,\u001b[0m \u001b[0;34m**\u001b[0m\u001b[0mkwargs\u001b[0m\u001b[0;34m)\u001b[0m\u001b[0;34m\u001b[0m\u001b[0;34m\u001b[0m\u001b[0m\n\u001b[0m\u001b[1;32m   1111\u001b[0m         \u001b[0;31m# Do not call functions when jit is used\u001b[0m\u001b[0;34m\u001b[0m\u001b[0;34m\u001b[0m\u001b[0;34m\u001b[0m\u001b[0m\n\u001b[1;32m   1112\u001b[0m         \u001b[0mfull_backward_hooks\u001b[0m\u001b[0;34m,\u001b[0m \u001b[0mnon_full_backward_hooks\u001b[0m \u001b[0;34m=\u001b[0m \u001b[0;34m[\u001b[0m\u001b[0;34m]\u001b[0m\u001b[0;34m,\u001b[0m \u001b[0;34m[\u001b[0m\u001b[0;34m]\u001b[0m\u001b[0;34m\u001b[0m\u001b[0;34m\u001b[0m\u001b[0m\n",
            "\u001b[0;32m/usr/local/lib/python3.7/dist-packages/transformers/pytorch_utils.py\u001b[0m in \u001b[0;36mforward\u001b[0;34m(self, x)\u001b[0m\n\u001b[1;32m    105\u001b[0m     \u001b[0;32mdef\u001b[0m \u001b[0mforward\u001b[0m\u001b[0;34m(\u001b[0m\u001b[0mself\u001b[0m\u001b[0;34m,\u001b[0m \u001b[0mx\u001b[0m\u001b[0;34m)\u001b[0m\u001b[0;34m:\u001b[0m\u001b[0;34m\u001b[0m\u001b[0;34m\u001b[0m\u001b[0m\n\u001b[1;32m    106\u001b[0m         \u001b[0msize_out\u001b[0m \u001b[0;34m=\u001b[0m \u001b[0mx\u001b[0m\u001b[0;34m.\u001b[0m\u001b[0msize\u001b[0m\u001b[0;34m(\u001b[0m\u001b[0;34m)\u001b[0m\u001b[0;34m[\u001b[0m\u001b[0;34m:\u001b[0m\u001b[0;34m-\u001b[0m\u001b[0;36m1\u001b[0m\u001b[0;34m]\u001b[0m \u001b[0;34m+\u001b[0m \u001b[0;34m(\u001b[0m\u001b[0mself\u001b[0m\u001b[0;34m.\u001b[0m\u001b[0mnf\u001b[0m\u001b[0;34m,\u001b[0m\u001b[0;34m)\u001b[0m\u001b[0;34m\u001b[0m\u001b[0;34m\u001b[0m\u001b[0m\n\u001b[0;32m--> 107\u001b[0;31m         \u001b[0mx\u001b[0m \u001b[0;34m=\u001b[0m \u001b[0mtorch\u001b[0m\u001b[0;34m.\u001b[0m\u001b[0maddmm\u001b[0m\u001b[0;34m(\u001b[0m\u001b[0mself\u001b[0m\u001b[0;34m.\u001b[0m\u001b[0mbias\u001b[0m\u001b[0;34m,\u001b[0m \u001b[0mx\u001b[0m\u001b[0;34m.\u001b[0m\u001b[0mview\u001b[0m\u001b[0;34m(\u001b[0m\u001b[0;34m-\u001b[0m\u001b[0;36m1\u001b[0m\u001b[0;34m,\u001b[0m \u001b[0mx\u001b[0m\u001b[0;34m.\u001b[0m\u001b[0msize\u001b[0m\u001b[0;34m(\u001b[0m\u001b[0;34m-\u001b[0m\u001b[0;36m1\u001b[0m\u001b[0;34m)\u001b[0m\u001b[0;34m)\u001b[0m\u001b[0;34m,\u001b[0m \u001b[0mself\u001b[0m\u001b[0;34m.\u001b[0m\u001b[0mweight\u001b[0m\u001b[0;34m)\u001b[0m\u001b[0;34m\u001b[0m\u001b[0;34m\u001b[0m\u001b[0m\n\u001b[0m\u001b[1;32m    108\u001b[0m         \u001b[0mx\u001b[0m \u001b[0;34m=\u001b[0m \u001b[0mx\u001b[0m\u001b[0;34m.\u001b[0m\u001b[0mview\u001b[0m\u001b[0;34m(\u001b[0m\u001b[0msize_out\u001b[0m\u001b[0;34m)\u001b[0m\u001b[0;34m\u001b[0m\u001b[0;34m\u001b[0m\u001b[0m\n\u001b[1;32m    109\u001b[0m         \u001b[0;32mreturn\u001b[0m \u001b[0mx\u001b[0m\u001b[0;34m\u001b[0m\u001b[0;34m\u001b[0m\u001b[0m\n",
            "\u001b[0;31mKeyboardInterrupt\u001b[0m: "
          ]
        }
      ],
      "source": [
        "from tqdm.notebook import tqdm\n",
        "\n",
        "num_epochs = 10\n",
        "# Train loop\n",
        "for e in range(num_epochs):\n",
        "    model_0.train()\n",
        "    train_loss = 0\n",
        "    for batch in tqdm(train_loader):\n",
        "        optimizer.zero_grad()\n",
        "        output = model_0(batch[\"input_ids\"].to(device), attention_mask=batch[\"mask\"].to(device))\n",
        "        loss = criterion(output[\"logits\"], batch[\"target\"].to(device))\n",
        "        train_loss += loss.item()\n",
        "        loss.backward()\n",
        "        optimizer.step()\n",
        "        \n",
        "        \n",
        "    valid_loss = 0\n",
        "    valid_acc = 0\n",
        "    model_0.eval()\n",
        "    with torch.no_grad():\n",
        "        for batch in valid_loader:\n",
        "            output = model_0(batch[\"input_ids\"].to(device), attention_mask=batch[\"mask\"].to(device))\n",
        "            loss = criterion(output[\"logits\"], batch[\"target\"].to(device))\n",
        "            valid_loss += loss.item()\n",
        "            valid_acc += (batch[\"target\"].to(device) == output[\"logits\"].argmax(axis=1)).sum().item()\n",
        "            \n",
        "\n",
        "    print(f\"Train Loss: {train_loss / (len(train_loader) * batch_size)}, \"\n",
        "          f\"Valid Loss: {valid_loss / (len(valid_loader) * batch_size)}, \"\n",
        "          f\"Valid Acc: {valid_acc / (len(valid_loader) * batch_size)}\")\n",
        "    \n",
        "    torch.save(model.state_dict(), '/content/drive/gpt2_best_model.pt')\n",
        "    \n",
        "        \n",
        "# Testing\n",
        "test_acc = 0\n",
        "model_0.eval()\n",
        "with torch.no_grad():\n",
        "    for batch in test_loader:\n",
        "        output = model_0(batch[\"input_ids\"].to(device), attention_mask=batch[\"mask\"].to(device))\n",
        "        test_acc += (batch[\"target\"].to(device) == output[\"logits\"].argmax(axis=1)).sum().item()\n",
        "        \n",
        "print(f\"\\n\\nTest Acc: {test_acc / len(test_loader)}\")"
      ]
    },
    {
      "cell_type": "code",
      "source": [
        "! pip install pynput"
      ],
      "metadata": {
        "colab": {
          "base_uri": "https://localhost:8080/"
        },
        "id": "A21xOV0E2rJ2",
        "outputId": "97401f31-3f37-4258-bdd5-cbc1cca6be32"
      },
      "execution_count": 97,
      "outputs": [
        {
          "output_type": "stream",
          "name": "stdout",
          "text": [
            "Looking in indexes: https://pypi.org/simple, https://us-python.pkg.dev/colab-wheels/public/simple/\n",
            "Collecting pynput\n",
            "  Downloading pynput-1.7.6-py2.py3-none-any.whl (89 kB)\n",
            "\u001b[K     |████████████████████████████████| 89 kB 8.2 MB/s \n",
            "\u001b[?25hRequirement already satisfied: six in /usr/local/lib/python3.7/dist-packages (from pynput) (1.15.0)\n",
            "Collecting python-xlib>=0.17\n",
            "  Downloading python_xlib-0.31-py2.py3-none-any.whl (179 kB)\n",
            "\u001b[K     |████████████████████████████████| 179 kB 69.8 MB/s \n",
            "\u001b[?25hCollecting evdev>=1.3\n",
            "  Downloading evdev-1.5.0.tar.gz (26 kB)\n",
            "Building wheels for collected packages: evdev\n",
            "  Building wheel for evdev (setup.py) ... \u001b[?25l\u001b[?25hdone\n",
            "  Created wheel for evdev: filename=evdev-1.5.0-cp37-cp37m-linux_x86_64.whl size=97548 sha256=f45cbbf44bb24616387e26c1a9038cf9e8b6e20ddb636c93f1717acec03d7fb4\n",
            "  Stored in directory: /root/.cache/pip/wheels/92/22/83/8cce4c52d67fca4bf2eb7a1de1ecd9053b992d9b95efae3fad\n",
            "Successfully built evdev\n",
            "Installing collected packages: python-xlib, evdev, pynput\n",
            "Successfully installed evdev-1.5.0 pynput-1.7.6 python-xlib-0.31\n"
          ]
        }
      ]
    },
    {
      "cell_type": "markdown",
      "metadata": {
        "id": "uqdn_G6Bov65"
      },
      "source": [
        "После того, как получил лучшую модель для решения этой задачи, посмотри на карты внимания. Нашел ли что-нибудь интересное в них?"
      ]
    },
    {
      "cell_type": "code",
      "execution_count": null,
      "metadata": {
        "id": "EL1Diwi8ov65"
      },
      "outputs": [],
      "source": [
        "def get_attention_matrixes(model, tokenizer, text, device=device):\n",
        "    inp = list(filter(lambda x: x != tokenizer.sep_token_id, tokenizer.encode(text)))\n",
        "    inp = torch.tensor(inp, dtype=torch.long, device=device).unsqueeze(0)\n",
        "    attn_tensors = model(inp)[-1]\n",
        "    seq = [tokenizer.decode(x) for x in inp[0].tolist()]\n",
        "    attn = []\n",
        "    for i in range(len(attn_tensors)):\n",
        "        attn_layer = []\n",
        "        for j in range(attn_tensors[i].size(1)):\n",
        "            attn_layer.append(attn_tensors[i][0, j].cpu().detach().numpy())\n",
        "        attn.append(np.array(attn_layer))\n",
        "    \n",
        "    return np.array(attn)"
      ]
    },
    {
      "cell_type": "code",
      "execution_count": null,
      "metadata": {
        "id": "xUcnafILov66"
      },
      "outputs": [],
      "source": [
        "def show_attention(seq, attentions):\n",
        "    # Set up figure with colorbar\n",
        "    fig = plt.figure(figsize=(20,20))\n",
        "    ax = fig.add_subplot(111)\n",
        "    cax = ax.matshow(attentions)\n",
        "    fig.colorbar(cax)\n",
        "\n",
        "    # Set up axes\n",
        "    ax.set_xticklabels(['']+seq, rotation=90, fontsize=16)\n",
        "    ax.set_yticklabels(['']+seq, fontsize=16)\n",
        "\n",
        "    # Show label at every tick\n",
        "    ax.xaxis.set_major_locator(ticker.MultipleLocator(1))\n",
        "    ax.yaxis.set_major_locator(ticker.MultipleLocator(1))\n",
        "\n",
        "    plt.show()"
      ]
    },
    {
      "cell_type": "code",
      "execution_count": null,
      "metadata": {
        "id": "4mI5KN0fov66"
      },
      "outputs": [],
      "source": [
        "text = ... # Выбери текст из датасета\n",
        "tokens = tokenizer.tokenize(text)"
      ]
    },
    {
      "cell_type": "code",
      "execution_count": null,
      "metadata": {
        "id": "0rCAxxpsov66"
      },
      "outputs": [],
      "source": [
        "attns = get_ettention_matrixes(model_0, tokenizer, text)\n",
        "show_attention(seq, attn[-1][0])"
      ]
    },
    {
      "cell_type": "markdown",
      "metadata": {
        "id": "kmg9tRFLov66"
      },
      "source": [
        "## Fine-tuning\n",
        "\n",
        "Теперь другой подход: загрузим модель, которая обучалась решать задачу Language Modeling. Посмотрим, получим ли мы прирост в качестве."
      ]
    },
    {
      "cell_type": "code",
      "execution_count": null,
      "metadata": {
        "id": "goyglq1Nov66"
      },
      "outputs": [],
      "source": [
        "model_1 = GPT2ForSequenceClassification.from_pretrained(\n",
        "    \"distilgpt2\", \n",
        "    output_attentions=True,\n",
        "    pad_token_id=tokenizer.eos_token_id,\n",
        "    num_labels=8\n",
        ").to(device)"
      ]
    },
    {
      "cell_type": "code",
      "execution_count": null,
      "metadata": {
        "id": "AGYwtGq6ov66"
      },
      "outputs": [],
      "source": [
        "lr = 1e-5 # Предполагаемый learning rate. Он может быть больше или меньше :)\n",
        "\n",
        "optimizer = ...\n",
        "criterion = ...\n",
        "# scheduler = ... # Можно добавить шедулер для обучения моделей. Это на твое усмотрение"
      ]
    },
    {
      "cell_type": "markdown",
      "metadata": {
        "id": "4_XwZs60ov66"
      },
      "source": [
        "Вывод модели ничем не отличается от предыдущего случая, поэтому сразу приступаем к обучению:"
      ]
    },
    {
      "cell_type": "code",
      "execution_count": null,
      "metadata": {
        "id": "JpV_45uMov66"
      },
      "outputs": [],
      "source": [
        "from tqdm.notebook import tqdm\n",
        "\n",
        "\n",
        "num_epochs = 10\n",
        "\n",
        "# Train loop\n",
        "for e in range(num_epochs):\n",
        "    model_1.train()\n",
        "    train_loss = 0\n",
        "    for batch in tqdm(train_loader):\n",
        "        ...\n",
        "        \n",
        "    valid_loss = 0\n",
        "    valid_acc = 0\n",
        "    model_1.eval()\n",
        "    with torch.no_grad():\n",
        "        for batch in valid_loader:\n",
        "            ...\n",
        "    print(f\"Train Loss: {train_loss / len(train_loader)},\"\n",
        "          f\"Valid Loss: {valid_loss / len(valid_loader)},\"\n",
        "          f\"Valid Acc: {valid_acc / len(valid_loader)}\")\n",
        "        \n",
        "# Testing\n",
        "test_acc = 0\n",
        "model_1.eval()\n",
        "with torch.no_grad():\n",
        "    for batch in test_loader:\n",
        "        ...\n",
        "print(f\"Test Acc: {test_acc / len(test_loader)}\")"
      ]
    },
    {
      "cell_type": "markdown",
      "metadata": {
        "id": "1PH1xP1Sov67"
      },
      "source": [
        "Есть ли прирост качества или скорости обучения?\n",
        "\n",
        "Посмотри на карты внимания. Есть ли отличие от предыдущего случая?"
      ]
    },
    {
      "cell_type": "code",
      "execution_count": null,
      "metadata": {
        "id": "VaBeR_h9ov67"
      },
      "outputs": [],
      "source": [
        "text = ... # Выбери текст из датасета\n",
        "tokens = tokenizer.tokenize(text)"
      ]
    },
    {
      "cell_type": "code",
      "execution_count": null,
      "metadata": {
        "id": "0kWHZgazov67"
      },
      "outputs": [],
      "source": [
        "attns = get_ettention_matrixes(model, tokenizer, text)\n",
        "show_attention(seq, attn[-1][0])"
      ]
    },
    {
      "cell_type": "markdown",
      "metadata": {
        "id": "VnA8dN8gov67"
      },
      "source": [
        "## Отчет\n",
        "\n",
        "Покажи здесь, что ты выполнил по этой работе. Ответь на несколько вопросов:\n",
        "- Какой подход оказался лучше? \n",
        "- На какие слова модель большего всего обращала внимание?\n",
        "- На каких слоях/головах модель обращала внимание?\n",
        "\n",
        "< твой отчет/ответы >"
      ]
    },
    {
      "cell_type": "code",
      "execution_count": null,
      "metadata": {
        "id": "LVxUS3asov67"
      },
      "outputs": [],
      "source": [
        ""
      ]
    }
  ],
  "metadata": {
    "kernelspec": {
      "display_name": "Python 3",
      "language": "python",
      "name": "python3"
    },
    "language_info": {
      "codemirror_mode": {
        "name": "ipython",
        "version": 3
      },
      "file_extension": ".py",
      "mimetype": "text/x-python",
      "name": "python",
      "nbconvert_exporter": "python",
      "pygments_lexer": "ipython3",
      "version": "3.6.9"
    },
    "colab": {
      "name": "[homework_part1]GPT.ipynb",
      "provenance": []
    },
    "accelerator": "GPU",
    "gpuClass": "standard",
    "widgets": {
      "application/vnd.jupyter.widget-state+json": {
        "eb1faf0d7b3e4295b1a1c2f276f5dc8b": {
          "model_module": "@jupyter-widgets/controls",
          "model_name": "HBoxModel",
          "model_module_version": "1.5.0",
          "state": {
            "_dom_classes": [],
            "_model_module": "@jupyter-widgets/controls",
            "_model_module_version": "1.5.0",
            "_model_name": "HBoxModel",
            "_view_count": null,
            "_view_module": "@jupyter-widgets/controls",
            "_view_module_version": "1.5.0",
            "_view_name": "HBoxView",
            "box_style": "",
            "children": [
              "IPY_MODEL_25f67a8750a24204835e4f734114ce20",
              "IPY_MODEL_f2876ddf39a540a9aa8216483a42e990",
              "IPY_MODEL_26b77911633947ee8c3527b3659ade0b"
            ],
            "layout": "IPY_MODEL_456a2bd8b0cd457a88291ed29649b1f2"
          }
        },
        "25f67a8750a24204835e4f734114ce20": {
          "model_module": "@jupyter-widgets/controls",
          "model_name": "HTMLModel",
          "model_module_version": "1.5.0",
          "state": {
            "_dom_classes": [],
            "_model_module": "@jupyter-widgets/controls",
            "_model_module_version": "1.5.0",
            "_model_name": "HTMLModel",
            "_view_count": null,
            "_view_module": "@jupyter-widgets/controls",
            "_view_module_version": "1.5.0",
            "_view_name": "HTMLView",
            "description": "",
            "description_tooltip": null,
            "layout": "IPY_MODEL_3a98ddf8d5d54fd382882eefe4f82efe",
            "placeholder": "​",
            "style": "IPY_MODEL_32bb4e3e704a4e39b601caad089424cf",
            "value": "100%"
          }
        },
        "f2876ddf39a540a9aa8216483a42e990": {
          "model_module": "@jupyter-widgets/controls",
          "model_name": "FloatProgressModel",
          "model_module_version": "1.5.0",
          "state": {
            "_dom_classes": [],
            "_model_module": "@jupyter-widgets/controls",
            "_model_module_version": "1.5.0",
            "_model_name": "FloatProgressModel",
            "_view_count": null,
            "_view_module": "@jupyter-widgets/controls",
            "_view_module_version": "1.5.0",
            "_view_name": "ProgressView",
            "bar_style": "success",
            "description": "",
            "description_tooltip": null,
            "layout": "IPY_MODEL_7c4cfeca73c241d98d6d133ec224b40c",
            "max": 3,
            "min": 0,
            "orientation": "horizontal",
            "style": "IPY_MODEL_9e404b04a82b41a2ac552d6f00cfe38d",
            "value": 3
          }
        },
        "26b77911633947ee8c3527b3659ade0b": {
          "model_module": "@jupyter-widgets/controls",
          "model_name": "HTMLModel",
          "model_module_version": "1.5.0",
          "state": {
            "_dom_classes": [],
            "_model_module": "@jupyter-widgets/controls",
            "_model_module_version": "1.5.0",
            "_model_name": "HTMLModel",
            "_view_count": null,
            "_view_module": "@jupyter-widgets/controls",
            "_view_module_version": "1.5.0",
            "_view_name": "HTMLView",
            "description": "",
            "description_tooltip": null,
            "layout": "IPY_MODEL_577fedd2ea504df683fcbfb586cfb116",
            "placeholder": "​",
            "style": "IPY_MODEL_262a74b87cf84b8295be63d78f2afb23",
            "value": " 3/3 [00:00&lt;00:00, 38.68it/s]"
          }
        },
        "456a2bd8b0cd457a88291ed29649b1f2": {
          "model_module": "@jupyter-widgets/base",
          "model_name": "LayoutModel",
          "model_module_version": "1.2.0",
          "state": {
            "_model_module": "@jupyter-widgets/base",
            "_model_module_version": "1.2.0",
            "_model_name": "LayoutModel",
            "_view_count": null,
            "_view_module": "@jupyter-widgets/base",
            "_view_module_version": "1.2.0",
            "_view_name": "LayoutView",
            "align_content": null,
            "align_items": null,
            "align_self": null,
            "border": null,
            "bottom": null,
            "display": null,
            "flex": null,
            "flex_flow": null,
            "grid_area": null,
            "grid_auto_columns": null,
            "grid_auto_flow": null,
            "grid_auto_rows": null,
            "grid_column": null,
            "grid_gap": null,
            "grid_row": null,
            "grid_template_areas": null,
            "grid_template_columns": null,
            "grid_template_rows": null,
            "height": null,
            "justify_content": null,
            "justify_items": null,
            "left": null,
            "margin": null,
            "max_height": null,
            "max_width": null,
            "min_height": null,
            "min_width": null,
            "object_fit": null,
            "object_position": null,
            "order": null,
            "overflow": null,
            "overflow_x": null,
            "overflow_y": null,
            "padding": null,
            "right": null,
            "top": null,
            "visibility": null,
            "width": null
          }
        },
        "3a98ddf8d5d54fd382882eefe4f82efe": {
          "model_module": "@jupyter-widgets/base",
          "model_name": "LayoutModel",
          "model_module_version": "1.2.0",
          "state": {
            "_model_module": "@jupyter-widgets/base",
            "_model_module_version": "1.2.0",
            "_model_name": "LayoutModel",
            "_view_count": null,
            "_view_module": "@jupyter-widgets/base",
            "_view_module_version": "1.2.0",
            "_view_name": "LayoutView",
            "align_content": null,
            "align_items": null,
            "align_self": null,
            "border": null,
            "bottom": null,
            "display": null,
            "flex": null,
            "flex_flow": null,
            "grid_area": null,
            "grid_auto_columns": null,
            "grid_auto_flow": null,
            "grid_auto_rows": null,
            "grid_column": null,
            "grid_gap": null,
            "grid_row": null,
            "grid_template_areas": null,
            "grid_template_columns": null,
            "grid_template_rows": null,
            "height": null,
            "justify_content": null,
            "justify_items": null,
            "left": null,
            "margin": null,
            "max_height": null,
            "max_width": null,
            "min_height": null,
            "min_width": null,
            "object_fit": null,
            "object_position": null,
            "order": null,
            "overflow": null,
            "overflow_x": null,
            "overflow_y": null,
            "padding": null,
            "right": null,
            "top": null,
            "visibility": null,
            "width": null
          }
        },
        "32bb4e3e704a4e39b601caad089424cf": {
          "model_module": "@jupyter-widgets/controls",
          "model_name": "DescriptionStyleModel",
          "model_module_version": "1.5.0",
          "state": {
            "_model_module": "@jupyter-widgets/controls",
            "_model_module_version": "1.5.0",
            "_model_name": "DescriptionStyleModel",
            "_view_count": null,
            "_view_module": "@jupyter-widgets/base",
            "_view_module_version": "1.2.0",
            "_view_name": "StyleView",
            "description_width": ""
          }
        },
        "7c4cfeca73c241d98d6d133ec224b40c": {
          "model_module": "@jupyter-widgets/base",
          "model_name": "LayoutModel",
          "model_module_version": "1.2.0",
          "state": {
            "_model_module": "@jupyter-widgets/base",
            "_model_module_version": "1.2.0",
            "_model_name": "LayoutModel",
            "_view_count": null,
            "_view_module": "@jupyter-widgets/base",
            "_view_module_version": "1.2.0",
            "_view_name": "LayoutView",
            "align_content": null,
            "align_items": null,
            "align_self": null,
            "border": null,
            "bottom": null,
            "display": null,
            "flex": null,
            "flex_flow": null,
            "grid_area": null,
            "grid_auto_columns": null,
            "grid_auto_flow": null,
            "grid_auto_rows": null,
            "grid_column": null,
            "grid_gap": null,
            "grid_row": null,
            "grid_template_areas": null,
            "grid_template_columns": null,
            "grid_template_rows": null,
            "height": null,
            "justify_content": null,
            "justify_items": null,
            "left": null,
            "margin": null,
            "max_height": null,
            "max_width": null,
            "min_height": null,
            "min_width": null,
            "object_fit": null,
            "object_position": null,
            "order": null,
            "overflow": null,
            "overflow_x": null,
            "overflow_y": null,
            "padding": null,
            "right": null,
            "top": null,
            "visibility": null,
            "width": null
          }
        },
        "9e404b04a82b41a2ac552d6f00cfe38d": {
          "model_module": "@jupyter-widgets/controls",
          "model_name": "ProgressStyleModel",
          "model_module_version": "1.5.0",
          "state": {
            "_model_module": "@jupyter-widgets/controls",
            "_model_module_version": "1.5.0",
            "_model_name": "ProgressStyleModel",
            "_view_count": null,
            "_view_module": "@jupyter-widgets/base",
            "_view_module_version": "1.2.0",
            "_view_name": "StyleView",
            "bar_color": null,
            "description_width": ""
          }
        },
        "577fedd2ea504df683fcbfb586cfb116": {
          "model_module": "@jupyter-widgets/base",
          "model_name": "LayoutModel",
          "model_module_version": "1.2.0",
          "state": {
            "_model_module": "@jupyter-widgets/base",
            "_model_module_version": "1.2.0",
            "_model_name": "LayoutModel",
            "_view_count": null,
            "_view_module": "@jupyter-widgets/base",
            "_view_module_version": "1.2.0",
            "_view_name": "LayoutView",
            "align_content": null,
            "align_items": null,
            "align_self": null,
            "border": null,
            "bottom": null,
            "display": null,
            "flex": null,
            "flex_flow": null,
            "grid_area": null,
            "grid_auto_columns": null,
            "grid_auto_flow": null,
            "grid_auto_rows": null,
            "grid_column": null,
            "grid_gap": null,
            "grid_row": null,
            "grid_template_areas": null,
            "grid_template_columns": null,
            "grid_template_rows": null,
            "height": null,
            "justify_content": null,
            "justify_items": null,
            "left": null,
            "margin": null,
            "max_height": null,
            "max_width": null,
            "min_height": null,
            "min_width": null,
            "object_fit": null,
            "object_position": null,
            "order": null,
            "overflow": null,
            "overflow_x": null,
            "overflow_y": null,
            "padding": null,
            "right": null,
            "top": null,
            "visibility": null,
            "width": null
          }
        },
        "262a74b87cf84b8295be63d78f2afb23": {
          "model_module": "@jupyter-widgets/controls",
          "model_name": "DescriptionStyleModel",
          "model_module_version": "1.5.0",
          "state": {
            "_model_module": "@jupyter-widgets/controls",
            "_model_module_version": "1.5.0",
            "_model_name": "DescriptionStyleModel",
            "_view_count": null,
            "_view_module": "@jupyter-widgets/base",
            "_view_module_version": "1.2.0",
            "_view_name": "StyleView",
            "description_width": ""
          }
        },
        "00f09f4a0d744b02b5750e38960e5ac4": {
          "model_module": "@jupyter-widgets/controls",
          "model_name": "HBoxModel",
          "model_module_version": "1.5.0",
          "state": {
            "_dom_classes": [],
            "_model_module": "@jupyter-widgets/controls",
            "_model_module_version": "1.5.0",
            "_model_name": "HBoxModel",
            "_view_count": null,
            "_view_module": "@jupyter-widgets/controls",
            "_view_module_version": "1.5.0",
            "_view_name": "HBoxView",
            "box_style": "",
            "children": [
              "IPY_MODEL_924a786e3459470280fd529809552b08",
              "IPY_MODEL_22adc710be3c4f8585699b3f1e6d9020",
              "IPY_MODEL_6c0c600fe7404279a056835e83520c9b"
            ],
            "layout": "IPY_MODEL_e4ec05fe0dcf4a44a883804c40d73b9a"
          }
        },
        "924a786e3459470280fd529809552b08": {
          "model_module": "@jupyter-widgets/controls",
          "model_name": "HTMLModel",
          "model_module_version": "1.5.0",
          "state": {
            "_dom_classes": [],
            "_model_module": "@jupyter-widgets/controls",
            "_model_module_version": "1.5.0",
            "_model_name": "HTMLModel",
            "_view_count": null,
            "_view_module": "@jupyter-widgets/controls",
            "_view_module_version": "1.5.0",
            "_view_name": "HTMLView",
            "description": "",
            "description_tooltip": null,
            "layout": "IPY_MODEL_1f8c504cb2b14022ae341545c51118dc",
            "placeholder": "​",
            "style": "IPY_MODEL_aa521360982b45f6b992aeb9e823b37f",
            "value": "  0%"
          }
        },
        "22adc710be3c4f8585699b3f1e6d9020": {
          "model_module": "@jupyter-widgets/controls",
          "model_name": "FloatProgressModel",
          "model_module_version": "1.5.0",
          "state": {
            "_dom_classes": [],
            "_model_module": "@jupyter-widgets/controls",
            "_model_module_version": "1.5.0",
            "_model_name": "FloatProgressModel",
            "_view_count": null,
            "_view_module": "@jupyter-widgets/controls",
            "_view_module_version": "1.5.0",
            "_view_name": "ProgressView",
            "bar_style": "danger",
            "description": "",
            "description_tooltip": null,
            "layout": "IPY_MODEL_733c099e3ea1487abe7d11c0a3f850c1",
            "max": 250,
            "min": 0,
            "orientation": "horizontal",
            "style": "IPY_MODEL_68ec3a61a9184e0fb578417455910d44",
            "value": 1
          }
        },
        "6c0c600fe7404279a056835e83520c9b": {
          "model_module": "@jupyter-widgets/controls",
          "model_name": "HTMLModel",
          "model_module_version": "1.5.0",
          "state": {
            "_dom_classes": [],
            "_model_module": "@jupyter-widgets/controls",
            "_model_module_version": "1.5.0",
            "_model_name": "HTMLModel",
            "_view_count": null,
            "_view_module": "@jupyter-widgets/controls",
            "_view_module_version": "1.5.0",
            "_view_name": "HTMLView",
            "description": "",
            "description_tooltip": null,
            "layout": "IPY_MODEL_45369d98e21a4c448c29ca1060356649",
            "placeholder": "​",
            "style": "IPY_MODEL_d26c977db9514ec3bd1e1b94a8ee9fbd",
            "value": " 1/250 [00:58&lt;3:08:02, 45.31s/it]"
          }
        },
        "e4ec05fe0dcf4a44a883804c40d73b9a": {
          "model_module": "@jupyter-widgets/base",
          "model_name": "LayoutModel",
          "model_module_version": "1.2.0",
          "state": {
            "_model_module": "@jupyter-widgets/base",
            "_model_module_version": "1.2.0",
            "_model_name": "LayoutModel",
            "_view_count": null,
            "_view_module": "@jupyter-widgets/base",
            "_view_module_version": "1.2.0",
            "_view_name": "LayoutView",
            "align_content": null,
            "align_items": null,
            "align_self": null,
            "border": null,
            "bottom": null,
            "display": null,
            "flex": null,
            "flex_flow": null,
            "grid_area": null,
            "grid_auto_columns": null,
            "grid_auto_flow": null,
            "grid_auto_rows": null,
            "grid_column": null,
            "grid_gap": null,
            "grid_row": null,
            "grid_template_areas": null,
            "grid_template_columns": null,
            "grid_template_rows": null,
            "height": null,
            "justify_content": null,
            "justify_items": null,
            "left": null,
            "margin": null,
            "max_height": null,
            "max_width": null,
            "min_height": null,
            "min_width": null,
            "object_fit": null,
            "object_position": null,
            "order": null,
            "overflow": null,
            "overflow_x": null,
            "overflow_y": null,
            "padding": null,
            "right": null,
            "top": null,
            "visibility": null,
            "width": null
          }
        },
        "1f8c504cb2b14022ae341545c51118dc": {
          "model_module": "@jupyter-widgets/base",
          "model_name": "LayoutModel",
          "model_module_version": "1.2.0",
          "state": {
            "_model_module": "@jupyter-widgets/base",
            "_model_module_version": "1.2.0",
            "_model_name": "LayoutModel",
            "_view_count": null,
            "_view_module": "@jupyter-widgets/base",
            "_view_module_version": "1.2.0",
            "_view_name": "LayoutView",
            "align_content": null,
            "align_items": null,
            "align_self": null,
            "border": null,
            "bottom": null,
            "display": null,
            "flex": null,
            "flex_flow": null,
            "grid_area": null,
            "grid_auto_columns": null,
            "grid_auto_flow": null,
            "grid_auto_rows": null,
            "grid_column": null,
            "grid_gap": null,
            "grid_row": null,
            "grid_template_areas": null,
            "grid_template_columns": null,
            "grid_template_rows": null,
            "height": null,
            "justify_content": null,
            "justify_items": null,
            "left": null,
            "margin": null,
            "max_height": null,
            "max_width": null,
            "min_height": null,
            "min_width": null,
            "object_fit": null,
            "object_position": null,
            "order": null,
            "overflow": null,
            "overflow_x": null,
            "overflow_y": null,
            "padding": null,
            "right": null,
            "top": null,
            "visibility": null,
            "width": null
          }
        },
        "aa521360982b45f6b992aeb9e823b37f": {
          "model_module": "@jupyter-widgets/controls",
          "model_name": "DescriptionStyleModel",
          "model_module_version": "1.5.0",
          "state": {
            "_model_module": "@jupyter-widgets/controls",
            "_model_module_version": "1.5.0",
            "_model_name": "DescriptionStyleModel",
            "_view_count": null,
            "_view_module": "@jupyter-widgets/base",
            "_view_module_version": "1.2.0",
            "_view_name": "StyleView",
            "description_width": ""
          }
        },
        "733c099e3ea1487abe7d11c0a3f850c1": {
          "model_module": "@jupyter-widgets/base",
          "model_name": "LayoutModel",
          "model_module_version": "1.2.0",
          "state": {
            "_model_module": "@jupyter-widgets/base",
            "_model_module_version": "1.2.0",
            "_model_name": "LayoutModel",
            "_view_count": null,
            "_view_module": "@jupyter-widgets/base",
            "_view_module_version": "1.2.0",
            "_view_name": "LayoutView",
            "align_content": null,
            "align_items": null,
            "align_self": null,
            "border": null,
            "bottom": null,
            "display": null,
            "flex": null,
            "flex_flow": null,
            "grid_area": null,
            "grid_auto_columns": null,
            "grid_auto_flow": null,
            "grid_auto_rows": null,
            "grid_column": null,
            "grid_gap": null,
            "grid_row": null,
            "grid_template_areas": null,
            "grid_template_columns": null,
            "grid_template_rows": null,
            "height": null,
            "justify_content": null,
            "justify_items": null,
            "left": null,
            "margin": null,
            "max_height": null,
            "max_width": null,
            "min_height": null,
            "min_width": null,
            "object_fit": null,
            "object_position": null,
            "order": null,
            "overflow": null,
            "overflow_x": null,
            "overflow_y": null,
            "padding": null,
            "right": null,
            "top": null,
            "visibility": null,
            "width": null
          }
        },
        "68ec3a61a9184e0fb578417455910d44": {
          "model_module": "@jupyter-widgets/controls",
          "model_name": "ProgressStyleModel",
          "model_module_version": "1.5.0",
          "state": {
            "_model_module": "@jupyter-widgets/controls",
            "_model_module_version": "1.5.0",
            "_model_name": "ProgressStyleModel",
            "_view_count": null,
            "_view_module": "@jupyter-widgets/base",
            "_view_module_version": "1.2.0",
            "_view_name": "StyleView",
            "bar_color": null,
            "description_width": ""
          }
        },
        "45369d98e21a4c448c29ca1060356649": {
          "model_module": "@jupyter-widgets/base",
          "model_name": "LayoutModel",
          "model_module_version": "1.2.0",
          "state": {
            "_model_module": "@jupyter-widgets/base",
            "_model_module_version": "1.2.0",
            "_model_name": "LayoutModel",
            "_view_count": null,
            "_view_module": "@jupyter-widgets/base",
            "_view_module_version": "1.2.0",
            "_view_name": "LayoutView",
            "align_content": null,
            "align_items": null,
            "align_self": null,
            "border": null,
            "bottom": null,
            "display": null,
            "flex": null,
            "flex_flow": null,
            "grid_area": null,
            "grid_auto_columns": null,
            "grid_auto_flow": null,
            "grid_auto_rows": null,
            "grid_column": null,
            "grid_gap": null,
            "grid_row": null,
            "grid_template_areas": null,
            "grid_template_columns": null,
            "grid_template_rows": null,
            "height": null,
            "justify_content": null,
            "justify_items": null,
            "left": null,
            "margin": null,
            "max_height": null,
            "max_width": null,
            "min_height": null,
            "min_width": null,
            "object_fit": null,
            "object_position": null,
            "order": null,
            "overflow": null,
            "overflow_x": null,
            "overflow_y": null,
            "padding": null,
            "right": null,
            "top": null,
            "visibility": null,
            "width": null
          }
        },
        "d26c977db9514ec3bd1e1b94a8ee9fbd": {
          "model_module": "@jupyter-widgets/controls",
          "model_name": "DescriptionStyleModel",
          "model_module_version": "1.5.0",
          "state": {
            "_model_module": "@jupyter-widgets/controls",
            "_model_module_version": "1.5.0",
            "_model_name": "DescriptionStyleModel",
            "_view_count": null,
            "_view_module": "@jupyter-widgets/base",
            "_view_module_version": "1.2.0",
            "_view_name": "StyleView",
            "description_width": ""
          }
        }
      }
    }
  },
  "nbformat": 4,
  "nbformat_minor": 0
}